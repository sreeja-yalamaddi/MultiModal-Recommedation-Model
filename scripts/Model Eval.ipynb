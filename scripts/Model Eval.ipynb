{
 "cells": [
  {
   "cell_type": "code",
   "execution_count": 1,
   "id": "f524fb5a-ac84-40f7-9267-a3bd689fb32a",
   "metadata": {},
   "outputs": [],
   "source": [
    "from evaluate import evaluate_approach_fast\n",
    "import os"
   ]
  },
  {
   "cell_type": "code",
   "execution_count": 3,
   "id": "adbf7003",
   "metadata": {},
   "outputs": [
    {
     "name": "stdout",
     "output_type": "stream",
     "text": [
      "Root Directory: d:\\MSDA\\assignments\\Spring\\IS6733\\clip_recommender\\clip_recommender\n",
      "Input Data Directory: d:\\MSDA\\assignments\\Spring\\IS6733\\clip_recommender\\clip_recommender\\input_data\n",
      "Ground Truth Directory: d:\\MSDA\\assignments\\Spring\\IS6733\\clip_recommender\\clip_recommender\\ground_truth\n",
      "Model Artifacts Directory: d:\\MSDA\\assignments\\Spring\\IS6733\\clip_recommender\\clip_recommender\\model_artifacts\n"
     ]
    }
   ],
   "source": [
    "import os\n",
    "import sys\n",
    "from pathlib import Path\n",
    "\n",
    "# 1. Get the parent directory of the current working directory (assuming you're in 'scripts')\n",
    "ROOT_DIR = Path(os.getcwd()).parent  # Parent directory of the 'scripts' folder\n",
    "\n",
    "# 2. Add the root directory to the system path (so local imports work)\n",
    "if str(ROOT_DIR) not in sys.path:\n",
    "    sys.path.insert(0, str(ROOT_DIR))\n",
    "\n",
    "# 3. Define the directories you need (relative to the root directory)\n",
    "INPUT_DATA_DIR      = ROOT_DIR / \"input_data\"\n",
    "GROUND_TRUTH_DIR    = ROOT_DIR / \"ground_truth\"\n",
    "MODEL_ARTIFACTS_DIR = ROOT_DIR / \"model_artifacts\"\n",
    "\n",
    "# Print to verify the paths\n",
    "print(\"Root Directory:\", ROOT_DIR)\n",
    "print(\"Input Data Directory:\", INPUT_DATA_DIR)\n",
    "print(\"Ground Truth Directory:\", GROUND_TRUTH_DIR)\n",
    "print(\"Model Artifacts Directory:\", MODEL_ARTIFACTS_DIR)\n"
   ]
  },
  {
   "cell_type": "markdown",
   "id": "c9401aa2-82a5-4f21-b4d2-0b8b99abadc6",
   "metadata": {},
   "source": [
    "#### Zero Shot Approach"
   ]
  },
  {
   "cell_type": "code",
   "execution_count": null,
   "id": "b14afb56-7b73-413a-a1a3-233413a495a8",
   "metadata": {},
   "outputs": [
    {
     "name": "stdout",
     "output_type": "stream",
     "text": [
      "Saved recommendations to artifacts_zeroshot_fashion/amazon_recs_with_scores_5.xlsx\n",
      "Overall mean similarity: 0.6725\n"
     ]
    }
   ],
   "source": [
    "# Beauty - Zero Shot\n",
    "approach_dir = MODEL_ARTIFACTS_DIR / \"artifacts_zeroshot_beauty\"\n",
    "gt_excel     = GROUND_TRUTH_DIR / \"Amazon_beauty_queries.xlsx\"\n",
    "out_excel    = approach_dir / \"amazon_recs_with_scores.xlsx\"\n",
    "product_csv  = INPUT_DATA_DIR / \"meta_data_beauty.csv\"\n",
    "\n",
    "df_res, overall_zs_beauty = evaluate_approach_fast(\n",
    "    approach_dir = str(approach_dir),\n",
    "    ground_truth_excel = str(gt_excel),\n",
    "    output_excel = str(out_excel),\n",
    "    product_csv = str(product_csv),\n",
    "    k=5\n",
    ")\n",
    "\n",
    "print(f\"Saved recommendations to {out_excel}\")\n",
    "print(f\"Overall mean similarity: {overall_zs_beauty:.4f}\")"
   ]
  },
  {
   "cell_type": "code",
   "execution_count": null,
   "id": "2e8771cf-bf23-47b4-b779-87e71f8081b1",
   "metadata": {},
   "outputs": [
    {
     "name": "stdout",
     "output_type": "stream",
     "text": [
      "Saved recommendations to artifacts_zeroshot_appl/amazon_recs_with_scores_5.xlsx\n",
      "Overall mean similarity: 0.8498\n"
     ]
    }
   ],
   "source": [
    "# Appliances - Zero Shot\n",
    "approach_dir = MODEL_ARTIFACTS_DIR / \"artifacts_zeroshot_appliances\"\n",
    "gt_excel     = GROUND_TRUTH_DIR / \"Amazon_appliances_queries.xlsx\"\n",
    "out_excel    = approach_dir / \"amazon_recs_with_scores.xlsx\"\n",
    "product_csv  = INPUT_DATA_DIR / \"meta_data_appliances.csv\"\n",
    "\n",
    "df_res, overall_zs_appl = evaluate_approach_fast(\n",
    "    approach_dir = str(approach_dir),\n",
    "    ground_truth_excel = str(gt_excel),\n",
    "    output_excel = str(out_excel),\n",
    "    product_csv = str(product_csv),\n",
    "    k=5\n",
    ")\n",
    "\n",
    "print(f\"Saved recommendations to {out_excel}\")\n",
    "print(f\"Overall mean similarity: {overall_zs_appl:.4f}\")"
   ]
  },
  {
   "cell_type": "markdown",
   "id": "7284bd02-ecfc-450b-90cf-623983a35515",
   "metadata": {},
   "source": [
    "#### Fine tuned with LORA (Full Precision)"
   ]
  },
  {
   "cell_type": "code",
   "execution_count": null,
   "id": "74127fe4-ac8f-4b8d-bf90-6700c9d07ff8",
   "metadata": {
    "scrolled": true
   },
   "outputs": [
    {
     "name": "stdout",
     "output_type": "stream",
     "text": [
      "Saved recommendations to artifacts_lora/amazon_recs_with_scores.xlsx\n",
      "Overall mean similarity: 0.7939\n"
     ]
    }
   ],
   "source": [
    "# For beauty | Finetuned with LORA\n",
    "approach_dir = MODEL_ARTIFACTS_DIR / \"artifacts_lora_beauty\"\n",
    "gt_excel     = GROUND_TRUTH_DIR / \"Amazon_beauty_queries.xlsx\"\n",
    "out_excel    = approach_dir / \"amazon_recs_with_scores.xlsx\"\n",
    "product_csv  = INPUT_DATA_DIR / \"meta_data_beauty.csv\"\n",
    "\n",
    "df_res, overall_lr_beauty = evaluate_approach_fast(\n",
    "    approach_dir = str(approach_dir),\n",
    "    ground_truth_excel = str(gt_excel),\n",
    "    output_excel = str(out_excel),\n",
    "    product_csv = str(product_csv),\n",
    "    k=5\n",
    ")\n",
    "\n",
    "print(f\"Saved recommendations to {out_excel}\")\n",
    "print(f\"Overall mean similarity: {overall_lr_beauty:.4f}\")"
   ]
  },
  {
   "cell_type": "code",
   "execution_count": null,
   "id": "7abc4041-5ad4-4bc5-9c6e-fed3d07ca0de",
   "metadata": {
    "scrolled": true
   },
   "outputs": [
    {
     "name": "stdout",
     "output_type": "stream",
     "text": [
      "Saved recommendations to artifacts_lora_appl/amazon_recs_with_scores.xlsx\n",
      "Overall mean similarity: 0.9073\n"
     ]
    }
   ],
   "source": [
    "# For Appliances | Finetuned with LORA\n",
    "approach_dir = MODEL_ARTIFACTS_DIR / \"artifacts_lora_appliances\"\n",
    "gt_excel     = GROUND_TRUTH_DIR / \"Amazon_appliances_queries.xlsx\"\n",
    "out_excel    = approach_dir / \"amazon_recs_with_scores.xlsx\"\n",
    "product_csv  = INPUT_DATA_DIR / \"meta_data_appliances.csv\"\n",
    "\n",
    "df_res, overall_lr_appl = evaluate_approach_fast(\n",
    "    approach_dir = str(approach_dir),\n",
    "    ground_truth_excel = str(gt_excel),\n",
    "    output_excel = str(out_excel),\n",
    "    product_csv = str(product_csv),\n",
    "    k=5\n",
    ")\n",
    "\n",
    "print(f\"Saved recommendations to {out_excel}\")\n",
    "print(f\"Overall mean similarity: {overall_lr_appl:.4f}\")"
   ]
  },
  {
   "cell_type": "markdown",
   "id": "00518cbe-78b1-4921-9de9-da859e4481a1",
   "metadata": {},
   "source": [
    "#### Fine tuned with LORA and optimized with mixed-precision"
   ]
  },
  {
   "cell_type": "code",
   "execution_count": null,
   "id": "6350d44d-e300-47f7-a898-2280a32c5c1d",
   "metadata": {},
   "outputs": [
    {
     "name": "stdout",
     "output_type": "stream",
     "text": [
      "Saved recommendations to artifacts_20k_clip_mp/amazon_recs_with_scores.xlsx\n",
      "Overall mean similarity: 0.7255\n"
     ]
    }
   ],
   "source": [
    "# For Beauty | Finetuned with LORA and Mixed Precision\n",
    "approach_dir = MODEL_ARTIFACTS_DIR / \"artifacts_lora_mp_beauty\"\n",
    "gt_excel     = GROUND_TRUTH_DIR / \"Amazon_beauty_queries.xlsx\"\n",
    "out_excel    = approach_dir / \"amazon_recs_with_scores.xlsx\"\n",
    "product_csv  = INPUT_DATA_DIR / \"meta_data_beauty.csv\"\n",
    "\n",
    "df_res, overall_lrmp_beauty = evaluate_approach_fast(\n",
    "    approach_dir = str(approach_dir),\n",
    "    ground_truth_excel = str(gt_excel),\n",
    "    output_excel = str(out_excel),\n",
    "    product_csv = str(product_csv),\n",
    "    k=5\n",
    ")\n",
    "\n",
    "print(f\"Saved recommendations to {out_excel}\")\n",
    "print(f\"Overall mean similarity: {overall_lrmp_beauty:.4f}\")"
   ]
  },
  {
   "cell_type": "code",
   "execution_count": null,
   "id": "ec0dc626-ae86-4f1d-9004-6fc56ed150dd",
   "metadata": {},
   "outputs": [
    {
     "name": "stdout",
     "output_type": "stream",
     "text": [
      "Saved recommendations to artifacts_20k_mp_appl_full/amazon_recs_with_scores.xlsx\n",
      "Overall mean similarity: 0.8746\n"
     ]
    }
   ],
   "source": [
    "# For Appliances | Finetuned with LORA and Mixed Precision\n",
    "approach_dir = MODEL_ARTIFACTS_DIR / \"artifacts_lora_mp_appliances\"\n",
    "gt_excel     = GROUND_TRUTH_DIR / \"Amazon_appliances_queries.xlsx\"\n",
    "out_excel    = approach_dir / \"amazon_recs_with_scores.xlsx\"\n",
    "product_csv  = INPUT_DATA_DIR / \"meta_data_appliances.csv\"\n",
    "\n",
    "df_res, overall_lrmp_appl = evaluate_approach_fast(\n",
    "    approach_dir = str(approach_dir),\n",
    "    ground_truth_excel = str(gt_excel),\n",
    "    output_excel = str(out_excel),\n",
    "    product_csv = str(product_csv),\n",
    "    k=5\n",
    ")\n",
    "\n",
    "print(f\"Saved recommendations to {out_excel}\")\n",
    "print(f\"Overall mean similarity: {overall_lrmp_appl:.4f}\")"
   ]
  },
  {
   "cell_type": "code",
   "execution_count": null,
   "id": "46e61208-57f5-4061-82b4-b72e9503c2f9",
   "metadata": {},
   "outputs": [
    {
     "name": "stdout",
     "output_type": "stream",
     "text": [
      "overall_zs_fash  0.6725484836101532\n",
      "overall_zs_appl  0.8498091101646423\n",
      "overall_lr_fash  0.7938934445381165\n",
      "overall_lr_appl  0.9072618746757507\n",
      "overall_lrmp_fash  0.7254888880252838\n",
      "overall_lrmp_appl  0.8745522511005401\n"
     ]
    }
   ],
   "source": [
    "print(\"overall_zs_beauty \", overall_zs_beauty)\n",
    "print(\"overall_zs_appl \", overall_zs_appl)\n",
    "print(\"overall_lr_beauty \", overall_lr_beauty)\n",
    "print(\"overall_lr_appl \", overall_lr_appl)\n",
    "print(\"overall_lrmp_beauty \", overall_lrmp_beauty)\n",
    "print(\"overall_lrmp_appl \", overall_lrmp_appl)"
   ]
  },
  {
   "cell_type": "code",
   "execution_count": null,
   "id": "3629e5a5-95d4-47ed-bcec-c655f6e32265",
   "metadata": {},
   "outputs": [],
   "source": []
  }
 ],
 "metadata": {
  "kernelspec": {
   "display_name": "base",
   "language": "python",
   "name": "python3"
  },
  "language_info": {
   "codemirror_mode": {
    "name": "ipython",
    "version": 3
   },
   "file_extension": ".py",
   "mimetype": "text/x-python",
   "name": "python",
   "nbconvert_exporter": "python",
   "pygments_lexer": "ipython3",
   "version": "3.8.8"
  }
 },
 "nbformat": 4,
 "nbformat_minor": 5
}
