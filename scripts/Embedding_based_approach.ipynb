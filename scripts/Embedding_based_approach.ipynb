{
 "cells": [
  {
   "cell_type": "code",
   "execution_count": 1,
   "id": "f74eb5a5-c8c2-4eb9-b15b-03b5f6eaa8a1",
   "metadata": {},
   "outputs": [],
   "source": [
    "#! pip install transformers datasets peft faiss-cpu"
   ]
  },
  {
   "cell_type": "code",
   "execution_count": 1,
   "id": "8da116ab-808a-48f0-9372-54a1147b1baf",
   "metadata": {},
   "outputs": [],
   "source": [
    "import pandas as pd\n",
    "import torch\n",
    "from datasets import load_dataset\n",
    "from transformers import CLIPProcessor, CLIPModel\n",
    "from peft import get_peft_model, LoraConfig, TaskType\n",
    "from PIL import Image\n",
    "from torchvision import transforms\n",
    "import faiss\n",
    "import requests\n",
    "from io import BytesIO"
   ]
  },
  {
   "cell_type": "markdown",
   "id": "5bf8f185-a295-4ff9-8d42-db7a058c3f62",
   "metadata": {},
   "source": [
    "### DATA CLEANING"
   ]
  },
  {
   "cell_type": "code",
   "execution_count": 2,
   "id": "19fe54aa-2f6d-45e8-bfae-c4792a9f6d93",
   "metadata": {},
   "outputs": [],
   "source": [
    "# Load the metadata split from Amazon Reviews 2023\n",
    "product_meta_data = load_dataset(\"McAuley-Lab/Amazon-Reviews-2023\", \"raw_meta_All_Beauty\", split=\"full\", trust_remote_code=True)\n",
    "df_meta = pd.DataFrame.from_records(product_meta_data).add_prefix(\"product_\")"
   ]
  },
  {
   "cell_type": "code",
   "execution_count": 3,
   "id": "e2bad520-385b-4939-8814-ca3e2483d990",
   "metadata": {},
   "outputs": [
    {
     "data": {
      "text/plain": [
       "(112590, 16)"
      ]
     },
     "execution_count": 3,
     "metadata": {},
     "output_type": "execute_result"
    }
   ],
   "source": [
    "df_meta.shape"
   ]
  },
  {
   "cell_type": "code",
   "execution_count": 4,
   "id": "2e50137f-0d20-4e3d-ad68-ef9d9f40a53f",
   "metadata": {},
   "outputs": [],
   "source": [
    "# Columns to clean\n",
    "target_cols = ['product_title', 'product_description', 'product_images']\n",
    "\n",
    "# 1) Drop NaNs and literal None’s\n",
    "df_meta_clean = df_meta.dropna(subset=target_cols)\n",
    "df_meta_clean = df_meta_clean[~df_meta_clean[target_cols]\n",
    "    .map(lambda x: x is None).any(axis=1)]"
   ]
  },
  {
   "cell_type": "code",
   "execution_count": 5,
   "id": "f0527e89-314e-4f29-b583-729a24cf6ddb",
   "metadata": {},
   "outputs": [
    {
     "data": {
      "text/plain": [
       "(112590, 16)"
      ]
     },
     "execution_count": 5,
     "metadata": {},
     "output_type": "execute_result"
    }
   ],
   "source": [
    "df_meta_clean.shape"
   ]
  },
  {
   "cell_type": "code",
   "execution_count": 6,
   "id": "47579524-17e2-4990-8659-53a26f300352",
   "metadata": {},
   "outputs": [
    {
     "name": "stdout",
     "output_type": "stream",
     "text": [
      "After cleaning: 112578 rows\n"
     ]
    }
   ],
   "source": [
    "# 2) Define what an “invalid” string is\n",
    "invalid_strs = {'', 'n/a', 'none', 'na'}\n",
    "\n",
    "# 3) Validator for product_images\n",
    "def images_valid(img_dict):\n",
    "    if not isinstance(img_dict, dict):\n",
    "        return False\n",
    "    # only consider these keys for actual URLs\n",
    "    for key in ('hi_res', 'large', 'thumb'):\n",
    "        urls = img_dict.get(key, [])\n",
    "        if not isinstance(urls, (list, tuple)):\n",
    "            continue\n",
    "        for url in urls:\n",
    "            if isinstance(url, str) and url.strip().lower() not in invalid_strs:\n",
    "                return True\n",
    "    return False\n",
    "\n",
    "# 4) General validator for text fields\n",
    "def text_valid(x):\n",
    "    return isinstance(x, str) and x.strip().lower() not in invalid_strs\n",
    "\n",
    "# 5) Apply validators\n",
    "#   - title & description must pass text_valid\n",
    "#   - images must pass images_valid\n",
    "df_meta_clean = df_meta_clean[\n",
    "    df_meta_clean['product_title'].apply(text_valid) &\n",
    "    #df_meta_clean['product_description'].apply(text_valid) &\n",
    "    df_meta_clean['product_images'].apply(images_valid)\n",
    "].reset_index(drop=True)\n",
    "\n",
    "print(f\"After cleaning: {len(df_meta_clean)} rows\")  "
   ]
  },
  {
   "cell_type": "code",
   "execution_count": 7,
   "id": "c3217d48-6dbf-4cb7-9625-90dc831759d9",
   "metadata": {},
   "outputs": [
    {
     "name": "stdout",
     "output_type": "stream",
     "text": [
      "Final dataset with extracted image URLs: 112578 rows\n"
     ]
    }
   ],
   "source": [
    "def extract_first_valid_image(images_dict):\n",
    "    if not isinstance(images_dict, dict):\n",
    "        return None\n",
    "\n",
    "    # Keys we care about, in order of preference\n",
    "    image_keys = ['hi_res', 'large', 'thumb']\n",
    "    invalid_strs = {'', 'none', 'n/a', 'na'}\n",
    "\n",
    "    for key in image_keys:\n",
    "        urls = images_dict.get(key, [])\n",
    "        if not isinstance(urls, list):\n",
    "            continue\n",
    "        for url in urls:\n",
    "            if isinstance(url, str) and url.strip().lower() not in invalid_strs:\n",
    "                return url.strip()\n",
    "    return None\n",
    "\n",
    "# Apply it to create a new column: product_image_url\n",
    "df_meta_clean['product_image_url'] = df_meta_clean['product_images'].apply(extract_first_valid_image)\n",
    "\n",
    "# Optional: drop rows where no valid image could be extracted (just in case)\n",
    "df_meta_clean = df_meta_clean[df_meta_clean['product_image_url'].notnull()].reset_index(drop=True)\n",
    "\n",
    "print(f\"Final dataset with extracted image URLs: {len(df_meta_clean)} rows\")\n"
   ]
  },
  {
   "cell_type": "code",
   "execution_count": 8,
   "id": "4d4fdaf9-0a83-4467-8a79-88648123c9bf",
   "metadata": {},
   "outputs": [],
   "source": [
    "def flatten_description(desc):\n",
    "    if isinstance(desc, list):\n",
    "        return \".\".join([d.strip() for d in desc if isinstance(d, str)]).strip()\n",
    "    elif isinstance(desc, str):\n",
    "        return desc.strip()\n",
    "    return \"\"\n",
    "\n",
    "df_meta_clean['product_description'] = df_meta_clean['product_description'].apply(flatten_description)"
   ]
  },
  {
   "cell_type": "code",
   "execution_count": 10,
   "id": "d8db37f0-deea-4a6d-b521-21b843951649",
   "metadata": {},
   "outputs": [
    {
     "data": {
      "text/plain": [
       "array(['All Beauty', 'Premium Beauty'], dtype=object)"
      ]
     },
     "execution_count": 10,
     "metadata": {},
     "output_type": "execute_result"
    }
   ],
   "source": [
    "df_meta_clean['product_main_category'].unique()"
   ]
  },
  {
   "cell_type": "code",
   "execution_count": 11,
   "id": "792f351e-3b0b-433f-92f7-4b2791bae4d4",
   "metadata": {},
   "outputs": [],
   "source": [
    "sample_data = df_meta_clean[df_meta_clean['product_main_category'] == \"All Beauty\"][['product_main_category','product_title','product_description','product_image_url','product_categories','product_details','product_features']].sample(20000).to_dict('records')"
   ]
  },
  {
   "cell_type": "code",
   "execution_count": 12,
   "id": "0aee6d0e-8a8c-4234-8e46-ae96ed3e05cb",
   "metadata": {},
   "outputs": [],
   "source": [
    "full_data = df_meta_clean[['product_main_category','product_title','product_description','product_image_url','product_categories','product_details','product_features']].to_dict('records')"
   ]
  },
  {
   "cell_type": "code",
   "execution_count": null,
   "id": "f6d7ce52-53fc-431d-bd1d-2d357ef2e9ea",
   "metadata": {},
   "outputs": [],
   "source": [
    "pd.DataFrame(sample_data).to_csv('product_data_beauty_sample.csv', index= False)\n",
    "pd.DataFrame(full_data).to_csv('product_data_beauty_full.csv', index= False)"
   ]
  },
  {
   "cell_type": "code",
   "execution_count": null,
   "id": "4d8cde88-7c20-494d-909d-eabdc0f559a6",
   "metadata": {},
   "outputs": [],
   "source": [
    "import json\n",
    "with open('full_data_beauty.json', 'w') as json_file:\n",
    "    json.dump(full_data, json_file, indent=4)"
   ]
  },
  {
   "cell_type": "code",
   "execution_count": null,
   "id": "5dc7543b-733c-4321-8e02-b81c398cb66f",
   "metadata": {},
   "outputs": [
    {
     "name": "stderr",
     "output_type": "stream",
     "text": [
      "Processing: 100%|█████████████████████████| 7037/7037 [9:41:08<00:00,  4.95s/it]\n"
     ]
    },
    {
     "name": "stdout",
     "output_type": "stream",
     "text": [
      "\n",
      "Done! Written 112578 entries to processed_for_clip.json\n"
     ]
    }
   ],
   "source": [
    "import json\n",
    "from pathlib import Path\n",
    "from tqdm import tqdm\n",
    "\n",
    "import torch\n",
    "from transformers import AutoTokenizer, AutoModelForSeq2SeqLM\n",
    "\n",
    "# Configuration\n",
    "RAW_PATH       = Path(\"full_data_beauty.json\")\n",
    "PROCESSED_PATH = Path(\"processed_for_clip.json\")\n",
    "MODEL_NAME     = \"facebook/bart-large-cnn\"\n",
    "BATCH_SIZE     = 16\n",
    "MAX_OUT        = 256\n",
    "\n",
    "# Setup\n",
    "device = torch.device(\"cuda\" if torch.cuda.is_available() else \"cpu\")\n",
    "\n",
    "tokenizer = AutoTokenizer.from_pretrained(MODEL_NAME)\n",
    "model = AutoModelForSeq2SeqLM.from_pretrained(MODEL_NAME)\n",
    "\n",
    "if torch.cuda.device_count() > 1:\n",
    "    print(f\"Using {torch.cuda.device_count()} GPUs\")\n",
    "    model = torch.nn.DataParallel(model)\n",
    "\n",
    "model.to(device)\n",
    "model.eval()\n",
    "\n",
    "def batch_standardize(batch_raw: list) -> list:\n",
    "    \"\"\"\n",
    "    Summarize a batch of raw product dictionaries into clean text paragraphs.\n",
    "    Returns a list of strings, one per product.\n",
    "    \"\"\"\n",
    "    batch_texts = [\n",
    "        f\"Product Title: {item.get('product_title', '')}\\n\"\n",
    "        f\"Product Description: {item.get('product_description', '')}\\n\"\n",
    "        f\"Product Features: {'; '.join(item.get('product_features', []))}\\n\"\n",
    "        f\"Product Details: {item.get('product_details', '')}\"\n",
    "        for item in batch_raw\n",
    "    ]\n",
    "\n",
    "    inputs = tokenizer(\n",
    "        batch_texts,\n",
    "        return_tensors=\"pt\",\n",
    "        truncation=True,\n",
    "        max_length=1024,\n",
    "        padding=True\n",
    "    ).to(device)\n",
    "\n",
    "    with torch.no_grad():\n",
    "        summary_ids = model.generate(\n",
    "            input_ids=inputs[\"input_ids\"],\n",
    "            attention_mask=inputs[\"attention_mask\"],\n",
    "            max_length=MAX_OUT,\n",
    "            num_beams=4,\n",
    "            early_stopping=True\n",
    "        )\n",
    "\n",
    "    summaries = tokenizer.batch_decode(summary_ids, skip_special_tokens=True)\n",
    "    return [summary.strip() for summary in summaries]\n",
    "\n",
    "# Load and process\n",
    "with RAW_PATH.open(\"r\") as f:\n",
    "    all_products = json.load(f)\n",
    "\n",
    "processed = []\n",
    "for i in tqdm(range(0, len(all_products), BATCH_SIZE), desc=\"Processing\"):\n",
    "    batch = all_products[i : i + BATCH_SIZE]\n",
    "    texts = batch_standardize(batch)\n",
    "    for raw, text in zip(batch, texts):\n",
    "        processed.append({\n",
    "            \"text\": text,\n",
    "            \"image_url\": raw.get(\"product_image_url\", \"\")\n",
    "        })\n",
    "    torch.cuda.empty_cache()\n",
    "\n",
    "# Save output\n",
    "with PROCESSED_PATH.open(\"w\") as f:\n",
    "    json.dump(processed, f, indent=2)\n",
    "\n",
    "print(f\"\\nDone! Written {len(processed)} entries to {PROCESSED_PATH}\")\n"
   ]
  },
  {
   "cell_type": "code",
   "execution_count": 16,
   "id": "0684660d-422c-4377-af55-3e6352e9cba9",
   "metadata": {},
   "outputs": [],
   "source": [
    "cleaned_text = pd.DataFrame(processed)"
   ]
  },
  {
   "cell_type": "code",
   "execution_count": 17,
   "id": "1465b573-51e2-4994-ad66-1b916a4a17d4",
   "metadata": {},
   "outputs": [
    {
     "data": {
      "text/html": [
       "<div>\n",
       "<style scoped>\n",
       "    .dataframe tbody tr th:only-of-type {\n",
       "        vertical-align: middle;\n",
       "    }\n",
       "\n",
       "    .dataframe tbody tr th {\n",
       "        vertical-align: top;\n",
       "    }\n",
       "\n",
       "    .dataframe thead th {\n",
       "        text-align: right;\n",
       "    }\n",
       "</style>\n",
       "<table border=\"1\" class=\"dataframe\">\n",
       "  <thead>\n",
       "    <tr style=\"text-align: right;\">\n",
       "      <th></th>\n",
       "      <th>text</th>\n",
       "      <th>image_url</th>\n",
       "    </tr>\n",
       "  </thead>\n",
       "  <tbody>\n",
       "    <tr>\n",
       "      <th>0</th>\n",
       "      <td>Product Title: Howard LC0008 Leather Condition...</td>\n",
       "      <td>https://m.media-amazon.com/images/I/71i77AuI9x...</td>\n",
       "    </tr>\n",
       "    <tr>\n",
       "      <th>1</th>\n",
       "      <td>Yes to Tomatoes Detoxifying Charcoal Cleanser ...</td>\n",
       "      <td>https://m.media-amazon.com/images/I/71g1lP0pMb...</td>\n",
       "    </tr>\n",
       "    <tr>\n",
       "      <th>2</th>\n",
       "      <td>Product Title: Eye Patch Black Adult with Tie ...</td>\n",
       "      <td>https://m.media-amazon.com/images/I/31bz+uqzWC...</td>\n",
       "    </tr>\n",
       "    <tr>\n",
       "      <th>3</th>\n",
       "      <td>Product Title: Tattoo Eyebrow Stickers. Waterp...</td>\n",
       "      <td>https://m.media-amazon.com/images/I/71GJhXQGvy...</td>\n",
       "    </tr>\n",
       "    <tr>\n",
       "      <th>4</th>\n",
       "      <td>Precision Plunger Bars for Cartridge Grips – 9...</td>\n",
       "      <td>https://m.media-amazon.com/images/I/31TgqAZ8kQ...</td>\n",
       "    </tr>\n",
       "    <tr>\n",
       "      <th>...</th>\n",
       "      <td>...</td>\n",
       "      <td>...</td>\n",
       "    </tr>\n",
       "    <tr>\n",
       "      <th>112573</th>\n",
       "      <td>Product Title: TOPREETY 24\"120gr 3/4 Full Head...</td>\n",
       "      <td>https://m.media-amazon.com/images/I/71Ud1D40lg...</td>\n",
       "    </tr>\n",
       "    <tr>\n",
       "      <th>112574</th>\n",
       "      <td>Product Title: Pets Playmate Pet Grooming Glov...</td>\n",
       "      <td>https://m.media-amazon.com/images/I/61o89FR2Dj...</td>\n",
       "    </tr>\n",
       "    <tr>\n",
       "      <th>112575</th>\n",
       "      <td>Makeup Brushes Set Cosmetics Tools Kit Peacock...</td>\n",
       "      <td>https://m.media-amazon.com/images/I/71pKBX5Xrx...</td>\n",
       "    </tr>\n",
       "    <tr>\n",
       "      <th>112576</th>\n",
       "      <td>Product Title: Xcoser Pretty Party Anna Wig Ha...</td>\n",
       "      <td>https://m.media-amazon.com/images/I/61t3vpvoZK...</td>\n",
       "    </tr>\n",
       "    <tr>\n",
       "      <th>112577</th>\n",
       "      <td>Spicy woody notes, pure sandalwood is added to...</td>\n",
       "      <td>https://m.media-amazon.com/images/I/61JhftDb3I...</td>\n",
       "    </tr>\n",
       "  </tbody>\n",
       "</table>\n",
       "<p>112578 rows × 2 columns</p>\n",
       "</div>"
      ],
      "text/plain": [
       "                                                     text  \\\n",
       "0       Product Title: Howard LC0008 Leather Condition...   \n",
       "1       Yes to Tomatoes Detoxifying Charcoal Cleanser ...   \n",
       "2       Product Title: Eye Patch Black Adult with Tie ...   \n",
       "3       Product Title: Tattoo Eyebrow Stickers. Waterp...   \n",
       "4       Precision Plunger Bars for Cartridge Grips – 9...   \n",
       "...                                                   ...   \n",
       "112573  Product Title: TOPREETY 24\"120gr 3/4 Full Head...   \n",
       "112574  Product Title: Pets Playmate Pet Grooming Glov...   \n",
       "112575  Makeup Brushes Set Cosmetics Tools Kit Peacock...   \n",
       "112576  Product Title: Xcoser Pretty Party Anna Wig Ha...   \n",
       "112577  Spicy woody notes, pure sandalwood is added to...   \n",
       "\n",
       "                                                image_url  \n",
       "0       https://m.media-amazon.com/images/I/71i77AuI9x...  \n",
       "1       https://m.media-amazon.com/images/I/71g1lP0pMb...  \n",
       "2       https://m.media-amazon.com/images/I/31bz+uqzWC...  \n",
       "3       https://m.media-amazon.com/images/I/71GJhXQGvy...  \n",
       "4       https://m.media-amazon.com/images/I/31TgqAZ8kQ...  \n",
       "...                                                   ...  \n",
       "112573  https://m.media-amazon.com/images/I/71Ud1D40lg...  \n",
       "112574  https://m.media-amazon.com/images/I/61o89FR2Dj...  \n",
       "112575  https://m.media-amazon.com/images/I/71pKBX5Xrx...  \n",
       "112576  https://m.media-amazon.com/images/I/61t3vpvoZK...  \n",
       "112577  https://m.media-amazon.com/images/I/61JhftDb3I...  \n",
       "\n",
       "[112578 rows x 2 columns]"
      ]
     },
     "execution_count": 17,
     "metadata": {},
     "output_type": "execute_result"
    }
   ],
   "source": [
    "cleaned_text"
   ]
  },
  {
   "cell_type": "code",
   "execution_count": 18,
   "id": "5417c4d1-d16f-4cb0-9405-484041c68448",
   "metadata": {},
   "outputs": [],
   "source": [
    "import re\n",
    "import unicodedata\n",
    "\n",
    "def clean_product_text(text: str) -> str:\n",
    "    if not isinstance(text, str):\n",
    "        return \"\"\n",
    "\n",
    "    # Normalize unicode characters\n",
    "    text = unicodedata.normalize(\"NFKC\", text)\n",
    "\n",
    "    # Replace unusual quotes and dashes with standard versions\n",
    "    text = text.translate(str.maketrans({\n",
    "        '“': '\"', '”': '\"', '’': \"'\", '‘': \"'\",\n",
    "        '–': '-', '—': '-', 'œ': 'oe', '‚': ',',\n",
    "        '•': '-', '…': '...', '″': '\"', '′': \"'\"\n",
    "    }))\n",
    "\n",
    "    # Remove non-ASCII or control characters\n",
    "    text = re.sub(r\"[^\\x00-\\x7F]+\", \" \", text)\n",
    "\n",
    "    # Remove extra punctuation artifacts\n",
    "    #text = re.sub(r\"['\\\"`]+\", \"'\", text)  # collapse quotes\n",
    "    #text = re.sub(r\"[-=]{2,}\", \"-\", text)  # collapse dashes\n",
    "    text = re.sub(r\"\\s+\", \" \", text)  # remove excessive whitespace\n",
    "\n",
    "    # Optional: remove isolated digits or trailing junk\n",
    "#    text = re.sub(r\"\\b(\\d{1,2})\\b\", \"\", text)  # remove 1-2 digit isolated numbers\n",
    "    text = text.strip(\" '\\\"-.,\\n\\t\")\n",
    "\n",
    "    return text.strip()\n"
   ]
  },
  {
   "cell_type": "code",
   "execution_count": null,
   "id": "9acae438-9c95-4dbf-8d5d-0302d3ccbd6e",
   "metadata": {},
   "outputs": [],
   "source": []
  },
  {
   "cell_type": "code",
   "execution_count": 19,
   "id": "9c96584e-dbd7-4b41-88f6-b67e979a35bb",
   "metadata": {},
   "outputs": [],
   "source": [
    "cleaned_text['text'] = cleaned_text['text'].apply(lambda x : clean_product_text(x))"
   ]
  },
  {
   "cell_type": "code",
   "execution_count": null,
   "id": "060e4753-8e7b-48f6-a776-0c15d0e67d9d",
   "metadata": {},
   "outputs": [],
   "source": [
    "cleaned_text.rename(columns={'text':'product_text','image_url':'product_image_url'}).to_csv('meta_data_beauty.csv',index=False)"
   ]
  },
  {
   "cell_type": "code",
   "execution_count": 21,
   "id": "e0dd2579-30bb-45b4-af7e-016d634644ea",
   "metadata": {},
   "outputs": [
    {
     "data": {
      "text/html": [
       "<div>\n",
       "<style scoped>\n",
       "    .dataframe tbody tr th:only-of-type {\n",
       "        vertical-align: middle;\n",
       "    }\n",
       "\n",
       "    .dataframe tbody tr th {\n",
       "        vertical-align: top;\n",
       "    }\n",
       "\n",
       "    .dataframe thead th {\n",
       "        text-align: right;\n",
       "    }\n",
       "</style>\n",
       "<table border=\"1\" class=\"dataframe\">\n",
       "  <thead>\n",
       "    <tr style=\"text-align: right;\">\n",
       "      <th></th>\n",
       "      <th>text</th>\n",
       "      <th>image_url</th>\n",
       "    </tr>\n",
       "  </thead>\n",
       "  <tbody>\n",
       "    <tr>\n",
       "      <th>0</th>\n",
       "      <td>Product Title: Howard LC0008 Leather Condition...</td>\n",
       "      <td>https://m.media-amazon.com/images/I/71i77AuI9x...</td>\n",
       "    </tr>\n",
       "    <tr>\n",
       "      <th>1</th>\n",
       "      <td>Yes to Tomatoes Detoxifying Charcoal Cleanser ...</td>\n",
       "      <td>https://m.media-amazon.com/images/I/71g1lP0pMb...</td>\n",
       "    </tr>\n",
       "    <tr>\n",
       "      <th>2</th>\n",
       "      <td>Product Title: Eye Patch Black Adult with Tie ...</td>\n",
       "      <td>https://m.media-amazon.com/images/I/31bz+uqzWC...</td>\n",
       "    </tr>\n",
       "    <tr>\n",
       "      <th>3</th>\n",
       "      <td>Product Title: Tattoo Eyebrow Stickers. Waterp...</td>\n",
       "      <td>https://m.media-amazon.com/images/I/71GJhXQGvy...</td>\n",
       "    </tr>\n",
       "    <tr>\n",
       "      <th>4</th>\n",
       "      <td>Precision Plunger Bars for Cartridge Grips - 9...</td>\n",
       "      <td>https://m.media-amazon.com/images/I/31TgqAZ8kQ...</td>\n",
       "    </tr>\n",
       "    <tr>\n",
       "      <th>...</th>\n",
       "      <td>...</td>\n",
       "      <td>...</td>\n",
       "    </tr>\n",
       "    <tr>\n",
       "      <th>112573</th>\n",
       "      <td>Product Title: TOPREETY 24\"120gr 3/4 Full Head...</td>\n",
       "      <td>https://m.media-amazon.com/images/I/71Ud1D40lg...</td>\n",
       "    </tr>\n",
       "    <tr>\n",
       "      <th>112574</th>\n",
       "      <td>Product Title: Pets Playmate Pet Grooming Glov...</td>\n",
       "      <td>https://m.media-amazon.com/images/I/61o89FR2Dj...</td>\n",
       "    </tr>\n",
       "    <tr>\n",
       "      <th>112575</th>\n",
       "      <td>Makeup Brushes Set Cosmetics Tools Kit Peacock...</td>\n",
       "      <td>https://m.media-amazon.com/images/I/71pKBX5Xrx...</td>\n",
       "    </tr>\n",
       "    <tr>\n",
       "      <th>112576</th>\n",
       "      <td>Product Title: Xcoser Pretty Party Anna Wig Ha...</td>\n",
       "      <td>https://m.media-amazon.com/images/I/61t3vpvoZK...</td>\n",
       "    </tr>\n",
       "    <tr>\n",
       "      <th>112577</th>\n",
       "      <td>Spicy woody notes, pure sandalwood is added to...</td>\n",
       "      <td>https://m.media-amazon.com/images/I/61JhftDb3I...</td>\n",
       "    </tr>\n",
       "  </tbody>\n",
       "</table>\n",
       "<p>112578 rows × 2 columns</p>\n",
       "</div>"
      ],
      "text/plain": [
       "                                                     text  \\\n",
       "0       Product Title: Howard LC0008 Leather Condition...   \n",
       "1       Yes to Tomatoes Detoxifying Charcoal Cleanser ...   \n",
       "2       Product Title: Eye Patch Black Adult with Tie ...   \n",
       "3       Product Title: Tattoo Eyebrow Stickers. Waterp...   \n",
       "4       Precision Plunger Bars for Cartridge Grips - 9...   \n",
       "...                                                   ...   \n",
       "112573  Product Title: TOPREETY 24\"120gr 3/4 Full Head...   \n",
       "112574  Product Title: Pets Playmate Pet Grooming Glov...   \n",
       "112575  Makeup Brushes Set Cosmetics Tools Kit Peacock...   \n",
       "112576  Product Title: Xcoser Pretty Party Anna Wig Ha...   \n",
       "112577  Spicy woody notes, pure sandalwood is added to...   \n",
       "\n",
       "                                                image_url  \n",
       "0       https://m.media-amazon.com/images/I/71i77AuI9x...  \n",
       "1       https://m.media-amazon.com/images/I/71g1lP0pMb...  \n",
       "2       https://m.media-amazon.com/images/I/31bz+uqzWC...  \n",
       "3       https://m.media-amazon.com/images/I/71GJhXQGvy...  \n",
       "4       https://m.media-amazon.com/images/I/31TgqAZ8kQ...  \n",
       "...                                                   ...  \n",
       "112573  https://m.media-amazon.com/images/I/71Ud1D40lg...  \n",
       "112574  https://m.media-amazon.com/images/I/61o89FR2Dj...  \n",
       "112575  https://m.media-amazon.com/images/I/71pKBX5Xrx...  \n",
       "112576  https://m.media-amazon.com/images/I/61t3vpvoZK...  \n",
       "112577  https://m.media-amazon.com/images/I/61JhftDb3I...  \n",
       "\n",
       "[112578 rows x 2 columns]"
      ]
     },
     "execution_count": 21,
     "metadata": {},
     "output_type": "execute_result"
    }
   ],
   "source": [
    "cleaned_text"
   ]
  },
  {
   "cell_type": "markdown",
   "id": "21845f86-d43d-4062-bc3a-363137ea8e3c",
   "metadata": {},
   "source": [
    "## EMBEDDING APPROACH"
   ]
  },
  {
   "cell_type": "code",
   "execution_count": 1,
   "id": "0baef119-de72-4a90-8283-b07ac1381a8a",
   "metadata": {},
   "outputs": [],
   "source": [
    "import os\n",
    "import numpy as np\n",
    "import pandas as pd\n",
    "import torch\n",
    "import torch.nn.functional as F\n",
    "\n",
    "from torch.utils.data import Dataset\n",
    "from transformers import CLIPProcessor,CLIPModel\n",
    "from PIL import Image\n",
    "import requests\n",
    "from io import BytesIO"
   ]
  },
  {
   "cell_type": "code",
   "execution_count": null,
   "id": "7f87639b-6779-48be-aa61-35fb6d7c20a9",
   "metadata": {},
   "outputs": [],
   "source": [
    "from utils import load_and_clean_data,get_model,generate_embeddings,save_embeddings,build_faiss_index\n",
    "SAVE_DIR = \"artifacts_zeroshot_beauty\"\n",
    "os.makedirs(SAVE_DIR, exist_ok=True)"
   ]
  },
  {
   "cell_type": "code",
   "execution_count": null,
   "id": "9fa3de6f-3fac-4bcb-bfb1-3bbced565623",
   "metadata": {},
   "outputs": [],
   "source": [
    "#prod_data = load_and_clean_data(\"product_data.csv\")\n",
    "prod_data = pd.read_csv('meta_data_beauty.csv')"
   ]
  },
  {
   "cell_type": "code",
   "execution_count": 8,
   "id": "49cc67fc-a8fc-4d74-b511-2a965bbc49ea",
   "metadata": {},
   "outputs": [
    {
     "data": {
      "text/html": [
       "<div>\n",
       "<style scoped>\n",
       "    .dataframe tbody tr th:only-of-type {\n",
       "        vertical-align: middle;\n",
       "    }\n",
       "\n",
       "    .dataframe tbody tr th {\n",
       "        vertical-align: top;\n",
       "    }\n",
       "\n",
       "    .dataframe thead th {\n",
       "        text-align: right;\n",
       "    }\n",
       "</style>\n",
       "<table border=\"1\" class=\"dataframe\">\n",
       "  <thead>\n",
       "    <tr style=\"text-align: right;\">\n",
       "      <th></th>\n",
       "      <th>product_text</th>\n",
       "      <th>product_image_url</th>\n",
       "    </tr>\n",
       "  </thead>\n",
       "  <tbody>\n",
       "    <tr>\n",
       "      <th>0</th>\n",
       "      <td>Product Title: Howard LC0008 Leather Condition...</td>\n",
       "      <td>https://m.media-amazon.com/images/I/71i77AuI9x...</td>\n",
       "    </tr>\n",
       "    <tr>\n",
       "      <th>1</th>\n",
       "      <td>Yes to Tomatoes Detoxifying Charcoal Cleanser ...</td>\n",
       "      <td>https://m.media-amazon.com/images/I/71g1lP0pMb...</td>\n",
       "    </tr>\n",
       "    <tr>\n",
       "      <th>2</th>\n",
       "      <td>Product Title: Eye Patch Black Adult with Tie ...</td>\n",
       "      <td>https://m.media-amazon.com/images/I/31bz+uqzWC...</td>\n",
       "    </tr>\n",
       "    <tr>\n",
       "      <th>3</th>\n",
       "      <td>Product Title: Tattoo Eyebrow Stickers. Waterp...</td>\n",
       "      <td>https://m.media-amazon.com/images/I/71GJhXQGvy...</td>\n",
       "    </tr>\n",
       "    <tr>\n",
       "      <th>4</th>\n",
       "      <td>Precision Plunger Bars for Cartridge Grips - 9...</td>\n",
       "      <td>https://m.media-amazon.com/images/I/31TgqAZ8kQ...</td>\n",
       "    </tr>\n",
       "    <tr>\n",
       "      <th>...</th>\n",
       "      <td>...</td>\n",
       "      <td>...</td>\n",
       "    </tr>\n",
       "    <tr>\n",
       "      <th>112573</th>\n",
       "      <td>Product Title: TOPREETY 24\"120gr 3/4 Full Head...</td>\n",
       "      <td>https://m.media-amazon.com/images/I/71Ud1D40lg...</td>\n",
       "    </tr>\n",
       "    <tr>\n",
       "      <th>112574</th>\n",
       "      <td>Product Title: Pets Playmate Pet Grooming Glov...</td>\n",
       "      <td>https://m.media-amazon.com/images/I/61o89FR2Dj...</td>\n",
       "    </tr>\n",
       "    <tr>\n",
       "      <th>112575</th>\n",
       "      <td>Makeup Brushes Set Cosmetics Tools Kit Peacock...</td>\n",
       "      <td>https://m.media-amazon.com/images/I/71pKBX5Xrx...</td>\n",
       "    </tr>\n",
       "    <tr>\n",
       "      <th>112576</th>\n",
       "      <td>Product Title: Xcoser Pretty Party Anna Wig Ha...</td>\n",
       "      <td>https://m.media-amazon.com/images/I/61t3vpvoZK...</td>\n",
       "    </tr>\n",
       "    <tr>\n",
       "      <th>112577</th>\n",
       "      <td>Spicy woody notes, pure sandalwood is added to...</td>\n",
       "      <td>https://m.media-amazon.com/images/I/61JhftDb3I...</td>\n",
       "    </tr>\n",
       "  </tbody>\n",
       "</table>\n",
       "<p>112578 rows × 2 columns</p>\n",
       "</div>"
      ],
      "text/plain": [
       "                                             product_text  \\\n",
       "0       Product Title: Howard LC0008 Leather Condition...   \n",
       "1       Yes to Tomatoes Detoxifying Charcoal Cleanser ...   \n",
       "2       Product Title: Eye Patch Black Adult with Tie ...   \n",
       "3       Product Title: Tattoo Eyebrow Stickers. Waterp...   \n",
       "4       Precision Plunger Bars for Cartridge Grips - 9...   \n",
       "...                                                   ...   \n",
       "112573  Product Title: TOPREETY 24\"120gr 3/4 Full Head...   \n",
       "112574  Product Title: Pets Playmate Pet Grooming Glov...   \n",
       "112575  Makeup Brushes Set Cosmetics Tools Kit Peacock...   \n",
       "112576  Product Title: Xcoser Pretty Party Anna Wig Ha...   \n",
       "112577  Spicy woody notes, pure sandalwood is added to...   \n",
       "\n",
       "                                        product_image_url  \n",
       "0       https://m.media-amazon.com/images/I/71i77AuI9x...  \n",
       "1       https://m.media-amazon.com/images/I/71g1lP0pMb...  \n",
       "2       https://m.media-amazon.com/images/I/31bz+uqzWC...  \n",
       "3       https://m.media-amazon.com/images/I/71GJhXQGvy...  \n",
       "4       https://m.media-amazon.com/images/I/31TgqAZ8kQ...  \n",
       "...                                                   ...  \n",
       "112573  https://m.media-amazon.com/images/I/71Ud1D40lg...  \n",
       "112574  https://m.media-amazon.com/images/I/61o89FR2Dj...  \n",
       "112575  https://m.media-amazon.com/images/I/71pKBX5Xrx...  \n",
       "112576  https://m.media-amazon.com/images/I/61t3vpvoZK...  \n",
       "112577  https://m.media-amazon.com/images/I/61JhftDb3I...  \n",
       "\n",
       "[112578 rows x 2 columns]"
      ]
     },
     "execution_count": 8,
     "metadata": {},
     "output_type": "execute_result"
    }
   ],
   "source": [
    "prod_data"
   ]
  },
  {
   "cell_type": "code",
   "execution_count": 9,
   "id": "f580e949-db67-484f-8685-82d09a54f0f0",
   "metadata": {},
   "outputs": [],
   "source": [
    "import torch\n",
    "from torch.utils.data import Dataset\n",
    "from PIL import Image\n",
    "import requests\n",
    "from io import BytesIO\n",
    "from transformers import CLIPProcessor\n",
    "\n",
    "class ProductCLIPDataset(Dataset):\n",
    "    def __init__(self, df, model_name=\"openai/clip-vit-base-patch32\"):\n",
    "        self.texts = df[\"product_text\"].tolist()\n",
    "        self.urls = df[\"product_image_url\"].tolist()\n",
    "        self.processor = CLIPProcessor.from_pretrained(model_name)\n",
    "\n",
    "    def __len__(self):\n",
    "        return len(self.texts)\n",
    "\n",
    "    def __getitem__(self, idx):\n",
    "        text = self.texts[idx]\n",
    "        url = self.urls[idx]\n",
    "\n",
    "        try:\n",
    "            image = Image.open(requests.get(url, stream=True).raw).convert(\"RGB\")\n",
    "        except:\n",
    "            # Fallback image in case of failure\n",
    "            image = Image.new(\"RGB\", (224, 224), color=(255, 255, 255))\n",
    "\n",
    "        return {\n",
    "            \"text\": text,\n",
    "            \"image\": image\n",
    "        }\n",
    "\n",
    "    def collate_fn(self, batch):\n",
    "        texts = [ex[\"text\"] for ex in batch]\n",
    "        images = [ex[\"image\"] for ex in batch]\n",
    "\n",
    "        # Tokenize text\n",
    "        tokenized = self.processor.tokenizer(\n",
    "            texts,\n",
    "            padding=True,\n",
    "            truncation=True,\n",
    "            return_tensors=\"pt\"\n",
    "        )\n",
    "\n",
    "        # Process images\n",
    "        image_inputs = self.processor.image_processor(\n",
    "            images,\n",
    "            return_tensors=\"pt\"\n",
    "        )\n",
    "\n",
    "        return {\n",
    "            \"input_ids\": tokenized[\"input_ids\"],\n",
    "            \"attention_mask\": tokenized[\"attention_mask\"],\n",
    "            \"pixel_values\": image_inputs[\"pixel_values\"]\n",
    "        }\n"
   ]
  },
  {
   "cell_type": "code",
   "execution_count": 10,
   "id": "0ad9152e-e561-402b-95cd-86744e5fe58c",
   "metadata": {},
   "outputs": [
    {
     "name": "stdout",
     "output_type": "stream",
     "text": [
      "Loaded model: CLIPModel\n"
     ]
    }
   ],
   "source": [
    "# Load Zero-Shot CLIP Model\n",
    "model_zs = get_model(approach=\"zero_shot\", save_dir=SAVE_DIR)\n",
    "print(\"Loaded model:\", model_zs.__class__.__name__)"
   ]
  },
  {
   "cell_type": "code",
   "execution_count": 11,
   "id": "18080aeb-8d3e-4449-b1b7-3680af66e0b2",
   "metadata": {},
   "outputs": [
    {
     "name": "stderr",
     "output_type": "stream",
     "text": [
      "Using a slow image processor as `use_fast` is unset and a slow processor was saved with this model. `use_fast=True` will be the default behavior in v4.50, even if the model was saved with a slow processor. This will result in minor differences in outputs. You'll still be able to use a slow processor with `use_fast=False`.\n",
      "Generating embeddings: 100%|██████████████| 3519/3519 [2:24:01<00:00,  2.46s/it]\n"
     ]
    },
    {
     "name": "stdout",
     "output_type": "stream",
     "text": [
      "Generated embeddings: torch.Size([112578, 512]) torch.Size([112578, 512])\n"
     ]
    }
   ],
   "source": [
    "# Generate text & image embeddings\n",
    "dataset = ProductCLIPDataset(prod_data)\n",
    "text_embs, image_embs = generate_embeddings(model_zs, dataset, batch_size=32)\n",
    "print(\"Generated embeddings:\", text_embs.shape, image_embs.shape)"
   ]
  },
  {
   "cell_type": "code",
   "execution_count": null,
   "id": "915088f9-bc51-456f-947e-c443ec40a4a1",
   "metadata": {
    "vscode": {
     "languageId": "plaintext"
    }
   },
   "outputs": [
    {
     "name": "stdout",
     "output_type": "stream",
     "text": [
      "FAISS index saved to: artifacts_zeroshot_fash/faiss.index\n"
     ]
    }
   ],
   "source": [
    "save_embeddings(text_embs, image_embs, SAVE_DIR)\n",
    "combined = F.normalize((text_embs + image_embs) / 2, dim =-1)\n",
    "index_path = build_faiss_index(combined, SAVE_DIR)"
   ]
  }
 ],
 "metadata": {
  "kernelspec": {
   "display_name": "Python (test)",
   "language": "python",
   "name": "test"
  },
  "language_info": {
   "codemirror_mode": {
    "name": "ipython",
    "version": 3
   },
   "file_extension": ".py",
   "mimetype": "text/x-python",
   "name": "python",
   "nbconvert_exporter": "python",
   "pygments_lexer": "ipython3",
   "version": "3.13.2"
  }
 },
 "nbformat": 4,
 "nbformat_minor": 5
}
