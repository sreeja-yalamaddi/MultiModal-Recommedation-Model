{
 "cells": [
  {
   "cell_type": "code",
   "execution_count": 1,
   "id": "f74eb5a5-c8c2-4eb9-b15b-03b5f6eaa8a1",
   "metadata": {},
   "outputs": [
    {
     "name": "stdout",
     "output_type": "stream",
     "text": [
      "Requirement already satisfied: transformers in ./.conda/envs/test/lib/python3.13/site-packages (4.50.0)\n",
      "Requirement already satisfied: datasets in ./.conda/envs/test/lib/python3.13/site-packages (3.5.0)\n",
      "Requirement already satisfied: peft in ./.conda/envs/test/lib/python3.13/site-packages (0.15.2)\n",
      "Requirement already satisfied: faiss-cpu in ./.conda/envs/test/lib/python3.13/site-packages (1.10.0)\n",
      "Requirement already satisfied: filelock in ./.conda/envs/test/lib/python3.13/site-packages (from transformers) (3.18.0)\n",
      "Requirement already satisfied: huggingface-hub<1.0,>=0.26.0 in ./.conda/envs/test/lib/python3.13/site-packages (from transformers) (0.29.3)\n",
      "Requirement already satisfied: numpy>=1.17 in ./.conda/envs/test/lib/python3.13/site-packages (from transformers) (2.2.4)\n",
      "Requirement already satisfied: packaging>=20.0 in ./.conda/envs/test/lib/python3.13/site-packages (from transformers) (24.2)\n",
      "Requirement already satisfied: pyyaml>=5.1 in ./.conda/envs/test/lib/python3.13/site-packages (from transformers) (6.0.2)\n",
      "Requirement already satisfied: regex!=2019.12.17 in ./.conda/envs/test/lib/python3.13/site-packages (from transformers) (2024.11.6)\n",
      "Requirement already satisfied: requests in ./.conda/envs/test/lib/python3.13/site-packages (from transformers) (2.32.3)\n",
      "Requirement already satisfied: tokenizers<0.22,>=0.21 in ./.conda/envs/test/lib/python3.13/site-packages (from transformers) (0.21.1)\n",
      "Requirement already satisfied: safetensors>=0.4.3 in ./.conda/envs/test/lib/python3.13/site-packages (from transformers) (0.5.3)\n",
      "Requirement already satisfied: tqdm>=4.27 in ./.conda/envs/test/lib/python3.13/site-packages (from transformers) (4.67.1)\n",
      "Requirement already satisfied: pyarrow>=15.0.0 in ./.conda/envs/test/lib/python3.13/site-packages (from datasets) (19.0.1)\n",
      "Requirement already satisfied: dill<0.3.9,>=0.3.0 in ./.conda/envs/test/lib/python3.13/site-packages (from datasets) (0.3.8)\n",
      "Requirement already satisfied: pandas in ./.conda/envs/test/lib/python3.13/site-packages (from datasets) (2.2.3)\n",
      "Requirement already satisfied: xxhash in ./.conda/envs/test/lib/python3.13/site-packages (from datasets) (3.5.0)\n",
      "Requirement already satisfied: multiprocess<0.70.17 in ./.conda/envs/test/lib/python3.13/site-packages (from datasets) (0.70.16)\n",
      "Requirement already satisfied: fsspec<=2024.12.0,>=2023.1.0 in ./.conda/envs/test/lib/python3.13/site-packages (from fsspec[http]<=2024.12.0,>=2023.1.0->datasets) (2024.12.0)\n",
      "Requirement already satisfied: aiohttp in ./.conda/envs/test/lib/python3.13/site-packages (from datasets) (3.11.16)\n",
      "Requirement already satisfied: psutil in ./.conda/envs/test/lib/python3.13/site-packages (from peft) (7.0.0)\n",
      "Requirement already satisfied: torch>=1.13.0 in ./.conda/envs/test/lib/python3.13/site-packages (from peft) (2.6.0)\n",
      "Requirement already satisfied: accelerate>=0.21.0 in ./.conda/envs/test/lib/python3.13/site-packages (from peft) (1.6.0)\n",
      "Requirement already satisfied: aiohappyeyeballs>=2.3.0 in ./.conda/envs/test/lib/python3.13/site-packages (from aiohttp->datasets) (2.6.1)\n",
      "Requirement already satisfied: aiosignal>=1.1.2 in ./.conda/envs/test/lib/python3.13/site-packages (from aiohttp->datasets) (1.3.2)\n",
      "Requirement already satisfied: attrs>=17.3.0 in ./.conda/envs/test/lib/python3.13/site-packages (from aiohttp->datasets) (25.3.0)\n",
      "Requirement already satisfied: frozenlist>=1.1.1 in ./.conda/envs/test/lib/python3.13/site-packages (from aiohttp->datasets) (1.5.0)\n",
      "Requirement already satisfied: multidict<7.0,>=4.5 in ./.conda/envs/test/lib/python3.13/site-packages (from aiohttp->datasets) (6.3.2)\n",
      "Requirement already satisfied: propcache>=0.2.0 in ./.conda/envs/test/lib/python3.13/site-packages (from aiohttp->datasets) (0.3.1)\n",
      "Requirement already satisfied: yarl<2.0,>=1.17.0 in ./.conda/envs/test/lib/python3.13/site-packages (from aiohttp->datasets) (1.19.0)\n",
      "Requirement already satisfied: typing-extensions>=3.7.4.3 in ./.conda/envs/test/lib/python3.13/site-packages (from huggingface-hub<1.0,>=0.26.0->transformers) (4.12.2)\n",
      "Requirement already satisfied: charset_normalizer<4,>=2 in ./.conda/envs/test/lib/python3.13/site-packages (from requests->transformers) (3.4.1)\n",
      "Requirement already satisfied: idna<4,>=2.5 in ./.conda/envs/test/lib/python3.13/site-packages (from requests->transformers) (3.10)\n",
      "Requirement already satisfied: urllib3<3,>=1.21.1 in ./.conda/envs/test/lib/python3.13/site-packages (from requests->transformers) (2.3.0)\n",
      "Requirement already satisfied: certifi>=2017.4.17 in ./.conda/envs/test/lib/python3.13/site-packages (from requests->transformers) (2025.1.31)\n",
      "Requirement already satisfied: networkx in ./.conda/envs/test/lib/python3.13/site-packages (from torch>=1.13.0->peft) (3.4.2)\n",
      "Requirement already satisfied: jinja2 in ./.conda/envs/test/lib/python3.13/site-packages (from torch>=1.13.0->peft) (3.1.6)\n",
      "Requirement already satisfied: nvidia-cuda-nvrtc-cu12==12.4.127 in ./.conda/envs/test/lib/python3.13/site-packages (from torch>=1.13.0->peft) (12.4.127)\n",
      "Requirement already satisfied: nvidia-cuda-runtime-cu12==12.4.127 in ./.conda/envs/test/lib/python3.13/site-packages (from torch>=1.13.0->peft) (12.4.127)\n",
      "Requirement already satisfied: nvidia-cuda-cupti-cu12==12.4.127 in ./.conda/envs/test/lib/python3.13/site-packages (from torch>=1.13.0->peft) (12.4.127)\n",
      "Requirement already satisfied: nvidia-cudnn-cu12==9.1.0.70 in ./.conda/envs/test/lib/python3.13/site-packages (from torch>=1.13.0->peft) (9.1.0.70)\n",
      "Requirement already satisfied: nvidia-cublas-cu12==12.4.5.8 in ./.conda/envs/test/lib/python3.13/site-packages (from torch>=1.13.0->peft) (12.4.5.8)\n",
      "Requirement already satisfied: nvidia-cufft-cu12==11.2.1.3 in ./.conda/envs/test/lib/python3.13/site-packages (from torch>=1.13.0->peft) (11.2.1.3)\n",
      "Requirement already satisfied: nvidia-curand-cu12==10.3.5.147 in ./.conda/envs/test/lib/python3.13/site-packages (from torch>=1.13.0->peft) (10.3.5.147)\n",
      "Requirement already satisfied: nvidia-cusolver-cu12==11.6.1.9 in ./.conda/envs/test/lib/python3.13/site-packages (from torch>=1.13.0->peft) (11.6.1.9)\n",
      "Requirement already satisfied: nvidia-cusparse-cu12==12.3.1.170 in ./.conda/envs/test/lib/python3.13/site-packages (from torch>=1.13.0->peft) (12.3.1.170)\n",
      "Requirement already satisfied: nvidia-cusparselt-cu12==0.6.2 in ./.conda/envs/test/lib/python3.13/site-packages (from torch>=1.13.0->peft) (0.6.2)\n",
      "Requirement already satisfied: nvidia-nccl-cu12==2.21.5 in ./.conda/envs/test/lib/python3.13/site-packages (from torch>=1.13.0->peft) (2.21.5)\n",
      "Requirement already satisfied: nvidia-nvtx-cu12==12.4.127 in ./.conda/envs/test/lib/python3.13/site-packages (from torch>=1.13.0->peft) (12.4.127)\n",
      "Requirement already satisfied: nvidia-nvjitlink-cu12==12.4.127 in ./.conda/envs/test/lib/python3.13/site-packages (from torch>=1.13.0->peft) (12.4.127)\n",
      "Requirement already satisfied: triton==3.2.0 in ./.conda/envs/test/lib/python3.13/site-packages (from torch>=1.13.0->peft) (3.2.0)\n",
      "Requirement already satisfied: setuptools in ./.conda/envs/test/lib/python3.13/site-packages (from torch>=1.13.0->peft) (75.8.2)\n",
      "Requirement already satisfied: sympy==1.13.1 in ./.conda/envs/test/lib/python3.13/site-packages (from torch>=1.13.0->peft) (1.13.1)\n",
      "Requirement already satisfied: mpmath<1.4,>=1.1.0 in ./.conda/envs/test/lib/python3.13/site-packages (from sympy==1.13.1->torch>=1.13.0->peft) (1.3.0)\n",
      "Requirement already satisfied: python-dateutil>=2.8.2 in ./.conda/envs/test/lib/python3.13/site-packages (from pandas->datasets) (2.9.0.post0)\n",
      "Requirement already satisfied: pytz>=2020.1 in ./.conda/envs/test/lib/python3.13/site-packages (from pandas->datasets) (2025.1)\n",
      "Requirement already satisfied: tzdata>=2022.7 in ./.conda/envs/test/lib/python3.13/site-packages (from pandas->datasets) (2025.2)\n",
      "Requirement already satisfied: six>=1.5 in ./.conda/envs/test/lib/python3.13/site-packages (from python-dateutil>=2.8.2->pandas->datasets) (1.17.0)\n",
      "Requirement already satisfied: MarkupSafe>=2.0 in ./.conda/envs/test/lib/python3.13/site-packages (from jinja2->torch>=1.13.0->peft) (3.0.2)\n"
     ]
    }
   ],
   "source": [
    "! pip install transformers datasets peft faiss-cpu"
   ]
  },
  {
   "cell_type": "code",
   "execution_count": 2,
   "id": "8da116ab-808a-48f0-9372-54a1147b1baf",
   "metadata": {},
   "outputs": [],
   "source": [
    "import pandas as pd\n",
    "import torch\n",
    "from datasets import load_dataset\n",
    "from transformers import CLIPProcessor, CLIPModel\n",
    "from peft import get_peft_model, LoraConfig, TaskType\n",
    "from PIL import Image\n",
    "from torchvision import transforms\n",
    "import faiss\n",
    "import requests\n",
    "from io import BytesIO"
   ]
  },
  {
   "cell_type": "code",
   "execution_count": 3,
   "id": "19fe54aa-2f6d-45e8-bfae-c4792a9f6d93",
   "metadata": {},
   "outputs": [],
   "source": [
    "# Load the metadata split from Amazon Reviews 2023\n",
    "product_meta_data = load_dataset(\"McAuley-Lab/Amazon-Reviews-2023\", \"raw_meta_All_Beauty\", split=\"full\", trust_remote_code=True)\n",
    "df_meta = pd.DataFrame.from_records(product_meta_data).add_prefix(\"product_\")"
   ]
  },
  {
   "cell_type": "code",
   "execution_count": 4,
   "id": "e2bad520-385b-4939-8814-ca3e2483d990",
   "metadata": {},
   "outputs": [
    {
     "data": {
      "text/plain": [
       "(112590, 16)"
      ]
     },
     "execution_count": 4,
     "metadata": {},
     "output_type": "execute_result"
    }
   ],
   "source": [
    "df_meta.shape"
   ]
  },
  {
   "cell_type": "code",
   "execution_count": 5,
   "id": "5dfe5e8d-5c3f-4e9e-892e-6e6c231f3c08",
   "metadata": {},
   "outputs": [],
   "source": [
    "review_data = load_dataset(\"McAuley-Lab/Amazon-Reviews-2023\", \"raw_review_All_Beauty\",  split=\"full\", trust_remote_code=True)\n",
    "df_review = pd.DataFrame.from_records(review_data).add_prefix(\"review_\")"
   ]
  },
  {
   "cell_type": "code",
   "execution_count": 6,
   "id": "ff54099e-52e4-492a-9070-596b8e3a77f1",
   "metadata": {},
   "outputs": [],
   "source": [
    "df_meta_clean = df_meta[df_meta['product_parent_asin'].isin(df_review['review_parent_asin'])]"
   ]
  },
  {
   "cell_type": "code",
   "execution_count": 7,
   "id": "2e50137f-0d20-4e3d-ad68-ef9d9f40a53f",
   "metadata": {},
   "outputs": [
    {
     "name": "stderr",
     "output_type": "stream",
     "text": [
      "/tmp/ipykernel_2036084/2919265753.py:7: FutureWarning: DataFrame.applymap has been deprecated. Use DataFrame.map instead.\n",
      "  .applymap(lambda x: x is None).any(axis=1)]\n"
     ]
    }
   ],
   "source": [
    "# Columns to clean\n",
    "target_cols = ['product_title', 'product_description', 'product_images']\n",
    "\n",
    "# 1) Drop NaNs and literal None’s\n",
    "df_meta_clean = df_meta_clean.dropna(subset=target_cols)\n",
    "df_meta_clean = df_meta_clean[~df_meta_clean[target_cols]\n",
    "    .applymap(lambda x: x is None).any(axis=1)]"
   ]
  },
  {
   "cell_type": "code",
   "execution_count": 8,
   "id": "f0527e89-314e-4f29-b583-729a24cf6ddb",
   "metadata": {},
   "outputs": [
    {
     "data": {
      "text/plain": [
       "(112565, 16)"
      ]
     },
     "execution_count": 8,
     "metadata": {},
     "output_type": "execute_result"
    }
   ],
   "source": [
    "df_meta_clean.shape"
   ]
  },
  {
   "cell_type": "code",
   "execution_count": 9,
   "id": "47579524-17e2-4990-8659-53a26f300352",
   "metadata": {},
   "outputs": [
    {
     "name": "stdout",
     "output_type": "stream",
     "text": [
      "After cleaning: 112553 rows\n"
     ]
    }
   ],
   "source": [
    "# 2) Define what an “invalid” string is\n",
    "invalid_strs = {'', 'n/a', 'none', 'na'}\n",
    "\n",
    "# 3) Validator for product_images\n",
    "def images_valid(img_dict):\n",
    "    if not isinstance(img_dict, dict):\n",
    "        return False\n",
    "    # only consider these keys for actual URLs\n",
    "    for key in ('hi_res', 'large', 'thumb'):\n",
    "        urls = img_dict.get(key, [])\n",
    "        if not isinstance(urls, (list, tuple)):\n",
    "            continue\n",
    "        for url in urls:\n",
    "            if isinstance(url, str) and url.strip().lower() not in invalid_strs:\n",
    "                return True\n",
    "    return False\n",
    "\n",
    "# 4) General validator for text fields\n",
    "def text_valid(x):\n",
    "    return isinstance(x, str) and x.strip().lower() not in invalid_strs\n",
    "\n",
    "# 5) Apply validators\n",
    "#   - title & description must pass text_valid\n",
    "#   - images must pass images_valid\n",
    "df_meta_clean = df_meta_clean[\n",
    "    df_meta_clean['product_title'].apply(text_valid) &\n",
    "    #df_meta_clean['product_description'].apply(text_valid) &\n",
    "    df_meta_clean['product_images'].apply(images_valid)\n",
    "].reset_index(drop=True)\n",
    "\n",
    "print(f\"After cleaning: {len(df_meta_clean)} rows\")  "
   ]
  },
  {
   "cell_type": "code",
   "execution_count": 10,
   "id": "eb9271cd-e872-4b09-a57a-d4c5b5314c3d",
   "metadata": {},
   "outputs": [
    {
     "data": {
      "text/html": [
       "<div>\n",
       "<style scoped>\n",
       "    .dataframe tbody tr th:only-of-type {\n",
       "        vertical-align: middle;\n",
       "    }\n",
       "\n",
       "    .dataframe tbody tr th {\n",
       "        vertical-align: top;\n",
       "    }\n",
       "\n",
       "    .dataframe thead th {\n",
       "        text-align: right;\n",
       "    }\n",
       "</style>\n",
       "<table border=\"1\" class=\"dataframe\">\n",
       "  <thead>\n",
       "    <tr style=\"text-align: right;\">\n",
       "      <th></th>\n",
       "      <th>product_title</th>\n",
       "      <th>product_description</th>\n",
       "      <th>product_images</th>\n",
       "    </tr>\n",
       "  </thead>\n",
       "  <tbody>\n",
       "    <tr>\n",
       "      <th>0</th>\n",
       "      <td>Howard LC0008 Leather Conditioner, 8-Ounce (4-...</td>\n",
       "      <td>[]</td>\n",
       "      <td>{'hi_res': [None, 'https://m.media-amazon.com/...</td>\n",
       "    </tr>\n",
       "    <tr>\n",
       "      <th>1</th>\n",
       "      <td>Yes to Tomatoes Detoxifying Charcoal Cleanser ...</td>\n",
       "      <td>[]</td>\n",
       "      <td>{'hi_res': ['https://m.media-amazon.com/images...</td>\n",
       "    </tr>\n",
       "    <tr>\n",
       "      <th>2</th>\n",
       "      <td>Eye Patch Black Adult with Tie Band (6 Per Pack)</td>\n",
       "      <td>[]</td>\n",
       "      <td>{'hi_res': [None, None], 'large': ['https://m....</td>\n",
       "    </tr>\n",
       "    <tr>\n",
       "      <th>3</th>\n",
       "      <td>Tattoo Eyebrow Stickers, Waterproof Eyebrow, 4...</td>\n",
       "      <td>[]</td>\n",
       "      <td>{'hi_res': ['https://m.media-amazon.com/images...</td>\n",
       "    </tr>\n",
       "    <tr>\n",
       "      <th>4</th>\n",
       "      <td>Precision Plunger Bars for Cartridge Grips – 9...</td>\n",
       "      <td>[The Precision Plunger Bars are designed to wo...</td>\n",
       "      <td>{'hi_res': [None], 'large': ['https://m.media-...</td>\n",
       "    </tr>\n",
       "    <tr>\n",
       "      <th>...</th>\n",
       "      <td>...</td>\n",
       "      <td>...</td>\n",
       "      <td>...</td>\n",
       "    </tr>\n",
       "    <tr>\n",
       "      <th>112548</th>\n",
       "      <td>TOPREETY 24\"120gr 3/4 Full Head clip in hair e...</td>\n",
       "      <td>[]</td>\n",
       "      <td>{'hi_res': ['https://m.media-amazon.com/images...</td>\n",
       "    </tr>\n",
       "    <tr>\n",
       "      <th>112549</th>\n",
       "      <td>Pets Playmate Pet Grooming Glove,Gentle Deshed...</td>\n",
       "      <td>[]</td>\n",
       "      <td>{'hi_res': ['https://m.media-amazon.com/images...</td>\n",
       "    </tr>\n",
       "    <tr>\n",
       "      <th>112550</th>\n",
       "      <td>[10Pack] Makeup Brushes Set Cosmetics Tools Ki...</td>\n",
       "      <td>[]</td>\n",
       "      <td>{'hi_res': ['https://m.media-amazon.com/images...</td>\n",
       "    </tr>\n",
       "    <tr>\n",
       "      <th>112551</th>\n",
       "      <td>Xcoser Pretty Party Anna Wig Hair Tails Hair S...</td>\n",
       "      <td>[]</td>\n",
       "      <td>{'hi_res': ['https://m.media-amazon.com/images...</td>\n",
       "    </tr>\n",
       "    <tr>\n",
       "      <th>112552</th>\n",
       "      <td>DVIO Men's Voyage Perfume, Spicy woody fragran...</td>\n",
       "      <td>[]</td>\n",
       "      <td>{'hi_res': ['https://m.media-amazon.com/images...</td>\n",
       "    </tr>\n",
       "  </tbody>\n",
       "</table>\n",
       "<p>112553 rows × 3 columns</p>\n",
       "</div>"
      ],
      "text/plain": [
       "                                            product_title  \\\n",
       "0       Howard LC0008 Leather Conditioner, 8-Ounce (4-...   \n",
       "1       Yes to Tomatoes Detoxifying Charcoal Cleanser ...   \n",
       "2        Eye Patch Black Adult with Tie Band (6 Per Pack)   \n",
       "3       Tattoo Eyebrow Stickers, Waterproof Eyebrow, 4...   \n",
       "4       Precision Plunger Bars for Cartridge Grips – 9...   \n",
       "...                                                   ...   \n",
       "112548  TOPREETY 24\"120gr 3/4 Full Head clip in hair e...   \n",
       "112549  Pets Playmate Pet Grooming Glove,Gentle Deshed...   \n",
       "112550  [10Pack] Makeup Brushes Set Cosmetics Tools Ki...   \n",
       "112551  Xcoser Pretty Party Anna Wig Hair Tails Hair S...   \n",
       "112552  DVIO Men's Voyage Perfume, Spicy woody fragran...   \n",
       "\n",
       "                                      product_description  \\\n",
       "0                                                      []   \n",
       "1                                                      []   \n",
       "2                                                      []   \n",
       "3                                                      []   \n",
       "4       [The Precision Plunger Bars are designed to wo...   \n",
       "...                                                   ...   \n",
       "112548                                                 []   \n",
       "112549                                                 []   \n",
       "112550                                                 []   \n",
       "112551                                                 []   \n",
       "112552                                                 []   \n",
       "\n",
       "                                           product_images  \n",
       "0       {'hi_res': [None, 'https://m.media-amazon.com/...  \n",
       "1       {'hi_res': ['https://m.media-amazon.com/images...  \n",
       "2       {'hi_res': [None, None], 'large': ['https://m....  \n",
       "3       {'hi_res': ['https://m.media-amazon.com/images...  \n",
       "4       {'hi_res': [None], 'large': ['https://m.media-...  \n",
       "...                                                   ...  \n",
       "112548  {'hi_res': ['https://m.media-amazon.com/images...  \n",
       "112549  {'hi_res': ['https://m.media-amazon.com/images...  \n",
       "112550  {'hi_res': ['https://m.media-amazon.com/images...  \n",
       "112551  {'hi_res': ['https://m.media-amazon.com/images...  \n",
       "112552  {'hi_res': ['https://m.media-amazon.com/images...  \n",
       "\n",
       "[112553 rows x 3 columns]"
      ]
     },
     "execution_count": 10,
     "metadata": {},
     "output_type": "execute_result"
    }
   ],
   "source": [
    "df_meta_clean[target_cols]"
   ]
  },
  {
   "cell_type": "code",
   "execution_count": 11,
   "id": "c3217d48-6dbf-4cb7-9625-90dc831759d9",
   "metadata": {},
   "outputs": [
    {
     "name": "stdout",
     "output_type": "stream",
     "text": [
      "Final dataset with extracted image URLs: 112553 rows\n"
     ]
    }
   ],
   "source": [
    "def extract_first_valid_image(images_dict):\n",
    "    if not isinstance(images_dict, dict):\n",
    "        return None\n",
    "\n",
    "    # Keys we care about, in order of preference\n",
    "    image_keys = ['hi_res', 'large', 'thumb']\n",
    "    invalid_strs = {'', 'none', 'n/a', 'na'}\n",
    "\n",
    "    for key in image_keys:\n",
    "        urls = images_dict.get(key, [])\n",
    "        if not isinstance(urls, list):\n",
    "            continue\n",
    "        for url in urls:\n",
    "            if isinstance(url, str) and url.strip().lower() not in invalid_strs:\n",
    "                return url.strip()\n",
    "    return None\n",
    "\n",
    "# Apply it to create a new column: product_image_url\n",
    "df_meta_clean['product_image_url'] = df_meta_clean['product_images'].apply(extract_first_valid_image)\n",
    "\n",
    "# Optional: drop rows where no valid image could be extracted (just in case)\n",
    "df_meta_clean = df_meta_clean[df_meta_clean['product_image_url'].notnull()].reset_index(drop=True)\n",
    "\n",
    "print(f\"Final dataset with extracted image URLs: {len(df_meta_clean)} rows\")\n"
   ]
  },
  {
   "cell_type": "code",
   "execution_count": 12,
   "id": "4d4fdaf9-0a83-4467-8a79-88648123c9bf",
   "metadata": {},
   "outputs": [],
   "source": [
    "def flatten_description(desc):\n",
    "    if isinstance(desc, list):\n",
    "        return \" \".join([d.strip() for d in desc if isinstance(d, str)]).strip()\n",
    "    elif isinstance(desc, str):\n",
    "        return desc.strip()\n",
    "    return \"\"\n",
    "\n",
    "df_meta_clean['product_description'] = df_meta_clean['product_description'].apply(flatten_description)"
   ]
  },
  {
   "cell_type": "code",
   "execution_count": 13,
   "id": "867bca5c-87d5-4bef-9bdc-a229b32da63f",
   "metadata": {
    "scrolled": true
   },
   "outputs": [],
   "source": [
    "final_data = df_meta_clean[['product_title','product_description','product_image_url']].dropna()"
   ]
  },
  {
   "cell_type": "code",
   "execution_count": 14,
   "id": "41df7c11-1a3a-4e10-bb44-8f1a5ec724a1",
   "metadata": {},
   "outputs": [
    {
     "data": {
      "text/html": [
       "<div>\n",
       "<style scoped>\n",
       "    .dataframe tbody tr th:only-of-type {\n",
       "        vertical-align: middle;\n",
       "    }\n",
       "\n",
       "    .dataframe tbody tr th {\n",
       "        vertical-align: top;\n",
       "    }\n",
       "\n",
       "    .dataframe thead th {\n",
       "        text-align: right;\n",
       "    }\n",
       "</style>\n",
       "<table border=\"1\" class=\"dataframe\">\n",
       "  <thead>\n",
       "    <tr style=\"text-align: right;\">\n",
       "      <th></th>\n",
       "      <th>product_title</th>\n",
       "      <th>product_description</th>\n",
       "      <th>product_image_url</th>\n",
       "    </tr>\n",
       "  </thead>\n",
       "  <tbody>\n",
       "    <tr>\n",
       "      <th>97378</th>\n",
       "      <td>EZTAT2 Delta Trilateral Premium Tattoo Foot Pe...</td>\n",
       "      <td></td>\n",
       "      <td>https://m.media-amazon.com/images/I/51ovqLcqhU...</td>\n",
       "    </tr>\n",
       "  </tbody>\n",
       "</table>\n",
       "</div>"
      ],
      "text/plain": [
       "                                           product_title product_description  \\\n",
       "97378  EZTAT2 Delta Trilateral Premium Tattoo Foot Pe...                       \n",
       "\n",
       "                                       product_image_url  \n",
       "97378  https://m.media-amazon.com/images/I/51ovqLcqhU...  "
      ]
     },
     "execution_count": 14,
     "metadata": {},
     "output_type": "execute_result"
    }
   ],
   "source": [
    "final_data.sample()"
   ]
  },
  {
   "cell_type": "code",
   "execution_count": 15,
   "id": "bed145c7-86f8-49d7-96ad-7dc28888603f",
   "metadata": {},
   "outputs": [
    {
     "name": "stderr",
     "output_type": "stream",
     "text": [
      "Using a slow image processor as `use_fast` is unset and a slow processor was saved with this model. `use_fast=True` will be the default behavior in v4.50, even if the model was saved with a slow processor. This will result in minor differences in outputs. You'll still be able to use a slow processor with `use_fast=False`.\n"
     ]
    },
    {
     "name": "stdout",
     "output_type": "stream",
     "text": [
      "cuda\n"
     ]
    }
   ],
   "source": [
    "from transformers import CLIPProcessor, CLIPModel\n",
    "from PIL import Image\n",
    "import torch\n",
    "import requests\n",
    "from io import BytesIO\n",
    "from tqdm import tqdm\n",
    "\n",
    "# Load CLIP base model and processor\n",
    "model = CLIPModel.from_pretrained(\"openai/clip-vit-base-patch32\")\n",
    "processor = CLIPProcessor.from_pretrained(\"openai/clip-vit-base-patch32\")\n",
    "model.eval()\n",
    "\n",
    "# Device setup\n",
    "device = \"cuda\" if torch.cuda.is_available() else \"cpu\"\n",
    "model = model.to(device)\n",
    "print(device)\n",
    "# Sample batched embedding extractor\n",
    "def encode_batch(texts, image_urls):\n",
    "    images = []\n",
    "    for url in image_urls:\n",
    "        try:\n",
    "            img = Image.open(BytesIO(requests.get(url, timeout=10).content)).convert(\"RGB\")\n",
    "            images.append(img)\n",
    "        except:\n",
    "            images.append(Image.new(\"RGB\", (224, 224), color='white'))  # fallback\n",
    "\n",
    "    inputs = processor(text=texts, images=images, return_tensors=\"pt\", padding=True, truncation=True)\n",
    "    inputs = {k: v.to(device) for k, v in inputs.items()}\n",
    "    with torch.no_grad():\n",
    "        outputs = model(**inputs)\n",
    "    return outputs.text_embeds.cpu(), outputs.image_embeds.cpu()\n"
   ]
  },
  {
   "cell_type": "code",
   "execution_count": 16,
   "id": "9aada3c1-e6e4-4420-ba13-2310a9898d12",
   "metadata": {},
   "outputs": [
    {
     "name": "stderr",
     "output_type": "stream",
     "text": [
      "100%|█████████████████████████████████████| 3518/3518 [6:59:20<00:00,  7.15s/it]\n"
     ]
    }
   ],
   "source": [
    "text_embeddings = []\n",
    "image_embeddings = []\n",
    "\n",
    "batch_size = 32\n",
    "for i in tqdm(range(0, len(df_meta_clean), batch_size)):\n",
    "    batch = df_meta_clean.iloc[i:i+batch_size]\n",
    "    texts = (batch['product_title'] + \" \" + batch['product_description']).tolist()\n",
    "    urls = batch['product_image_url'].tolist()\n",
    "    text_emb, img_emb = encode_batch(texts, urls)\n",
    "    text_embeddings.append(text_emb)\n",
    "    image_embeddings.append(img_emb)\n",
    "\n",
    "# Concatenate everything\n",
    "text_embeddings = torch.cat(text_embeddings)\n",
    "image_embeddings = torch.cat(image_embeddings)"
   ]
  },
  {
   "cell_type": "code",
   "execution_count": 25,
   "id": "d5d6a136-dc01-42f1-be3f-5f5980ded909",
   "metadata": {},
   "outputs": [],
   "source": [
    "from sklearn.metrics.pairwise import cosine_similarity"
   ]
  },
  {
   "cell_type": "code",
   "execution_count": 29,
   "id": "bcbb4eda-fa70-4577-8727-262dec6a527f",
   "metadata": {},
   "outputs": [],
   "source": [
    "def recommend(query_text=None, query_image_url=None, alpha=0.5, top_k=5):\n",
    "    assert query_text or query_image_url, \"Need at least text or image\"\n",
    "\n",
    "    t_emb, i_emb = None, None\n",
    "    \n",
    "    if query_text:\n",
    "        t_in = processor(text=query_text, return_tensors=\"pt\", truncation=True).to(device)\n",
    "        with torch.no_grad():\n",
    "            t_emb = model.get_text_features(**t_in).cpu().numpy()  # [1, D]\n",
    "\n",
    "    if query_image_url:\n",
    "        img = Image.open(BytesIO(requests.get(query_image_url, timeout=10).content)).convert(\"RGB\")\n",
    "        i_in = processor(images=img, return_tensors=\"pt\").to(device)\n",
    "        with torch.no_grad():\n",
    "            i_emb = model.get_image_features(**i_in).cpu().numpy()  # [1, D]\n",
    "\n",
    "    sims = None\n",
    "\n",
    "    if t_emb is not None and i_emb is not None:\n",
    "        sim_text = cosine_similarity(t_emb, text_embeddings.numpy())[0]\n",
    "        sim_image = cosine_similarity(i_emb, image_embeddings.numpy())[0]\n",
    "        sims = alpha * sim_image + (1 - alpha) * sim_text\n",
    "\n",
    "    elif t_emb is not None:\n",
    "        sim_text = cosine_similarity(t_emb, text_embeddings.numpy())[0]\n",
    "        sim_image = cosine_similarity(t_emb, image_embeddings.numpy())[0]\n",
    "        sims = alpha * sim_image + (1 - alpha) * sim_text\n",
    "\n",
    "    elif i_emb is not None:\n",
    "        sim_text = cosine_similarity(i_emb, text_embeddings.numpy())[0]\n",
    "        sim_image = cosine_similarity(i_emb, image_embeddings.numpy())[0]\n",
    "        sims = alpha * sim_text + (1 - alpha) * sim_image\n",
    "\n",
    "    idxs = sims.argsort()[::-1][:top_k]\n",
    "    results = df_meta_clean.iloc[idxs][['product_title', 'product_image_url']].copy()\n",
    "    results['similarity_score'] = sims[idxs]\n",
    "    return results.reset_index(drop=True)"
   ]
  },
  {
   "cell_type": "code",
   "execution_count": 19,
   "id": "e6c2f919-1adc-4a9c-be20-b5720a611a15",
   "metadata": {},
   "outputs": [],
   "source": [
    "import numpy as np\n",
    "np.save(\"product_text_embeddings.npy\", np.stack(text_embeddings))\n",
    "np.save(\"product_image_embeddings.npy\", np.stack(image_embeddings))\n",
    "df_meta_clean.to_csv(\"product_data.csv\", index=False)"
   ]
  },
  {
   "cell_type": "code",
   "execution_count": 35,
   "id": "c1456efd-86d5-4929-b503-ddf926aabbaa",
   "metadata": {},
   "outputs": [
    {
     "data": {
      "text/html": [
       "<div>\n",
       "<style scoped>\n",
       "    .dataframe tbody tr th:only-of-type {\n",
       "        vertical-align: middle;\n",
       "    }\n",
       "\n",
       "    .dataframe tbody tr th {\n",
       "        vertical-align: top;\n",
       "    }\n",
       "\n",
       "    .dataframe thead th {\n",
       "        text-align: right;\n",
       "    }\n",
       "</style>\n",
       "<table border=\"1\" class=\"dataframe\">\n",
       "  <thead>\n",
       "    <tr style=\"text-align: right;\">\n",
       "      <th></th>\n",
       "      <th>product_title</th>\n",
       "      <th>product_image_url</th>\n",
       "      <th>similarity_score</th>\n",
       "    </tr>\n",
       "  </thead>\n",
       "  <tbody>\n",
       "    <tr>\n",
       "      <th>0</th>\n",
       "      <td>Pure Face Anti-Aging Cream</td>\n",
       "      <td>https://m.media-amazon.com/images/I/41jEY8spj8...</td>\n",
       "      <td>0.622675</td>\n",
       "    </tr>\n",
       "    <tr>\n",
       "      <th>1</th>\n",
       "      <td>NaturaCel Anti-Aging Cream</td>\n",
       "      <td>https://m.media-amazon.com/images/I/51WnaCH-g-...</td>\n",
       "      <td>0.607630</td>\n",
       "    </tr>\n",
       "    <tr>\n",
       "      <th>2</th>\n",
       "      <td>Enhanced Night Cream</td>\n",
       "      <td>https://m.media-amazon.com/images/I/51adDpjO5C...</td>\n",
       "      <td>0.603435</td>\n",
       "    </tr>\n",
       "    <tr>\n",
       "      <th>3</th>\n",
       "      <td>JuvaLux Anti Aging Cream</td>\n",
       "      <td>https://m.media-amazon.com/images/I/31xYwHb56O...</td>\n",
       "      <td>0.602942</td>\n",
       "    </tr>\n",
       "    <tr>\n",
       "      <th>4</th>\n",
       "      <td>Natural Being Anti-Aging Oily Skin Night Cream</td>\n",
       "      <td>https://m.media-amazon.com/images/I/517lEwhCpG...</td>\n",
       "      <td>0.598397</td>\n",
       "    </tr>\n",
       "  </tbody>\n",
       "</table>\n",
       "</div>"
      ],
      "text/plain": [
       "                                    product_title  \\\n",
       "0                      Pure Face Anti-Aging Cream   \n",
       "1                      NaturaCel Anti-Aging Cream   \n",
       "2                            Enhanced Night Cream   \n",
       "3                        JuvaLux Anti Aging Cream   \n",
       "4  Natural Being Anti-Aging Oily Skin Night Cream   \n",
       "\n",
       "                                   product_image_url  similarity_score  \n",
       "0  https://m.media-amazon.com/images/I/41jEY8spj8...          0.622675  \n",
       "1  https://m.media-amazon.com/images/I/51WnaCH-g-...          0.607630  \n",
       "2  https://m.media-amazon.com/images/I/51adDpjO5C...          0.603435  \n",
       "3  https://m.media-amazon.com/images/I/31xYwHb56O...          0.602942  \n",
       "4  https://m.media-amazon.com/images/I/517lEwhCpG...          0.598397  "
      ]
     },
     "execution_count": 35,
     "metadata": {},
     "output_type": "execute_result"
    }
   ],
   "source": [
    "recommend(query_text=\"Anti-Aging Cream\")"
   ]
  },
  {
   "cell_type": "code",
   "execution_count": 36,
   "id": "9721ff63-ae30-496e-922c-c3d3bb941c0f",
   "metadata": {},
   "outputs": [],
   "source": [
    "query_image_url = \"https://m.media-amazon.com/images/I/41pH66O0gcL._AC_.jpg\""
   ]
  },
  {
   "cell_type": "code",
   "execution_count": 37,
   "id": "9419d473-d745-4dbd-9883-8739ef6f0143",
   "metadata": {},
   "outputs": [
    {
     "data": {
      "text/html": [
       "<div>\n",
       "<style scoped>\n",
       "    .dataframe tbody tr th:only-of-type {\n",
       "        vertical-align: middle;\n",
       "    }\n",
       "\n",
       "    .dataframe tbody tr th {\n",
       "        vertical-align: top;\n",
       "    }\n",
       "\n",
       "    .dataframe thead th {\n",
       "        text-align: right;\n",
       "    }\n",
       "</style>\n",
       "<table border=\"1\" class=\"dataframe\">\n",
       "  <thead>\n",
       "    <tr style=\"text-align: right;\">\n",
       "      <th></th>\n",
       "      <th>product_title</th>\n",
       "      <th>product_image_url</th>\n",
       "      <th>similarity_score</th>\n",
       "    </tr>\n",
       "  </thead>\n",
       "  <tbody>\n",
       "    <tr>\n",
       "      <th>0</th>\n",
       "      <td>Brightening Moisturizing Cream, 1.7 fl oz (50 ...</td>\n",
       "      <td>https://m.media-amazon.com/images/I/61zzz+YOM4...</td>\n",
       "      <td>0.537231</td>\n",
       "    </tr>\n",
       "    <tr>\n",
       "      <th>1</th>\n",
       "      <td>I WOKE UP LIKE THIS Purifying Skin Balancing C...</td>\n",
       "      <td>https://m.media-amazon.com/images/I/51eziubITB...</td>\n",
       "      <td>0.535954</td>\n",
       "    </tr>\n",
       "    <tr>\n",
       "      <th>2</th>\n",
       "      <td>Brightening Dynamics Illuminate</td>\n",
       "      <td>https://m.media-amazon.com/images/I/31zgEeXNAL...</td>\n",
       "      <td>0.531672</td>\n",
       "    </tr>\n",
       "    <tr>\n",
       "      <th>3</th>\n",
       "      <td>Ayur-Medic Calming Cream for Polysensitive Skin</td>\n",
       "      <td>https://m.media-amazon.com/images/I/71WoRNwkjF...</td>\n",
       "      <td>0.530686</td>\n",
       "    </tr>\n",
       "    <tr>\n",
       "      <th>4</th>\n",
       "      <td>Ayur-Medic Calming Cream for Polysensitive Skin</td>\n",
       "      <td>https://m.media-amazon.com/images/I/71WoRNwkjF...</td>\n",
       "      <td>0.530686</td>\n",
       "    </tr>\n",
       "  </tbody>\n",
       "</table>\n",
       "</div>"
      ],
      "text/plain": [
       "                                       product_title  \\\n",
       "0  Brightening Moisturizing Cream, 1.7 fl oz (50 ...   \n",
       "1  I WOKE UP LIKE THIS Purifying Skin Balancing C...   \n",
       "2                    Brightening Dynamics Illuminate   \n",
       "3    Ayur-Medic Calming Cream for Polysensitive Skin   \n",
       "4    Ayur-Medic Calming Cream for Polysensitive Skin   \n",
       "\n",
       "                                   product_image_url  similarity_score  \n",
       "0  https://m.media-amazon.com/images/I/61zzz+YOM4...          0.537231  \n",
       "1  https://m.media-amazon.com/images/I/51eziubITB...          0.535954  \n",
       "2  https://m.media-amazon.com/images/I/31zgEeXNAL...          0.531672  \n",
       "3  https://m.media-amazon.com/images/I/71WoRNwkjF...          0.530686  \n",
       "4  https://m.media-amazon.com/images/I/71WoRNwkjF...          0.530686  "
      ]
     },
     "execution_count": 37,
     "metadata": {},
     "output_type": "execute_result"
    }
   ],
   "source": [
    "recommend(query_image_url=query_image_url)"
   ]
  },
  {
   "cell_type": "code",
   "execution_count": 38,
   "id": "f6ade652-ea6b-4c01-8355-f8d2628ffb21",
   "metadata": {},
   "outputs": [
    {
     "data": {
      "text/html": [
       "<div>\n",
       "<style scoped>\n",
       "    .dataframe tbody tr th:only-of-type {\n",
       "        vertical-align: middle;\n",
       "    }\n",
       "\n",
       "    .dataframe tbody tr th {\n",
       "        vertical-align: top;\n",
       "    }\n",
       "\n",
       "    .dataframe thead th {\n",
       "        text-align: right;\n",
       "    }\n",
       "</style>\n",
       "<table border=\"1\" class=\"dataframe\">\n",
       "  <thead>\n",
       "    <tr style=\"text-align: right;\">\n",
       "      <th></th>\n",
       "      <th>product_title</th>\n",
       "      <th>product_image_url</th>\n",
       "      <th>similarity_score</th>\n",
       "    </tr>\n",
       "  </thead>\n",
       "  <tbody>\n",
       "    <tr>\n",
       "      <th>0</th>\n",
       "      <td>Pure Face Anti-Aging Cream</td>\n",
       "      <td>https://m.media-amazon.com/images/I/41jEY8spj8...</td>\n",
       "      <td>0.826946</td>\n",
       "    </tr>\n",
       "    <tr>\n",
       "      <th>1</th>\n",
       "      <td>Best Wrinkle Cream For Deep Wrinkles - Anti-Wr...</td>\n",
       "      <td>https://m.media-amazon.com/images/I/81TH-WWhHC...</td>\n",
       "      <td>0.815251</td>\n",
       "    </tr>\n",
       "    <tr>\n",
       "      <th>2</th>\n",
       "      <td>Selected Cosmetics - Eye Lift Cream</td>\n",
       "      <td>https://m.media-amazon.com/images/I/51QgHsAy7Y...</td>\n",
       "      <td>0.809106</td>\n",
       "    </tr>\n",
       "    <tr>\n",
       "      <th>3</th>\n",
       "      <td>NaturaCel Anti-Aging Cream</td>\n",
       "      <td>https://m.media-amazon.com/images/I/51WnaCH-g-...</td>\n",
       "      <td>0.807874</td>\n",
       "    </tr>\n",
       "    <tr>\n",
       "      <th>4</th>\n",
       "      <td>Natural Being Anti-Aging Oily Skin Night Cream</td>\n",
       "      <td>https://m.media-amazon.com/images/I/517lEwhCpG...</td>\n",
       "      <td>0.807649</td>\n",
       "    </tr>\n",
       "  </tbody>\n",
       "</table>\n",
       "</div>"
      ],
      "text/plain": [
       "                                       product_title  \\\n",
       "0                         Pure Face Anti-Aging Cream   \n",
       "1  Best Wrinkle Cream For Deep Wrinkles - Anti-Wr...   \n",
       "2                Selected Cosmetics - Eye Lift Cream   \n",
       "3                         NaturaCel Anti-Aging Cream   \n",
       "4     Natural Being Anti-Aging Oily Skin Night Cream   \n",
       "\n",
       "                                   product_image_url  similarity_score  \n",
       "0  https://m.media-amazon.com/images/I/41jEY8spj8...          0.826946  \n",
       "1  https://m.media-amazon.com/images/I/81TH-WWhHC...          0.815251  \n",
       "2  https://m.media-amazon.com/images/I/51QgHsAy7Y...          0.809106  \n",
       "3  https://m.media-amazon.com/images/I/51WnaCH-g-...          0.807874  \n",
       "4  https://m.media-amazon.com/images/I/517lEwhCpG...          0.807649  "
      ]
     },
     "execution_count": 38,
     "metadata": {},
     "output_type": "execute_result"
    }
   ],
   "source": [
    "recommend(query_text=\"Anti-Aging Cream\", query_image_url= query_image_url)"
   ]
  }
 ],
 "metadata": {
  "kernelspec": {
   "display_name": "Python 3 (ipykernel)",
   "language": "python",
   "name": "python3"
  },
  "language_info": {
   "codemirror_mode": {
    "name": "ipython",
    "version": 3
   },
   "file_extension": ".py",
   "mimetype": "text/x-python",
   "name": "python",
   "nbconvert_exporter": "python",
   "pygments_lexer": "ipython3",
   "version": "3.13.2"
  }
 },
 "nbformat": 4,
 "nbformat_minor": 5
}
