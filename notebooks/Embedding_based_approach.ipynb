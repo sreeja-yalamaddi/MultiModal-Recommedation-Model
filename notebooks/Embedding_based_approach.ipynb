{
 "cells": [
  {
   "cell_type": "code",
   "execution_count": 1,
   "id": "f74eb5a5-c8c2-4eb9-b15b-03b5f6eaa8a1",
   "metadata": {},
   "outputs": [
    {
     "name": "stdout",
     "output_type": "stream",
     "text": [
      "Requirement already satisfied: transformers in ./.conda/envs/test/lib/python3.13/site-packages (4.50.0)\n",
      "Requirement already satisfied: datasets in ./.conda/envs/test/lib/python3.13/site-packages (3.5.0)\n",
      "Requirement already satisfied: peft in ./.conda/envs/test/lib/python3.13/site-packages (0.15.2)\n",
      "Requirement already satisfied: faiss-cpu in ./.conda/envs/test/lib/python3.13/site-packages (1.10.0)\n",
      "Requirement already satisfied: filelock in ./.conda/envs/test/lib/python3.13/site-packages (from transformers) (3.18.0)\n",
      "Requirement already satisfied: huggingface-hub<1.0,>=0.26.0 in ./.conda/envs/test/lib/python3.13/site-packages (from transformers) (0.29.3)\n",
      "Requirement already satisfied: numpy>=1.17 in ./.conda/envs/test/lib/python3.13/site-packages (from transformers) (2.2.4)\n",
      "Requirement already satisfied: packaging>=20.0 in ./.conda/envs/test/lib/python3.13/site-packages (from transformers) (24.2)\n",
      "Requirement already satisfied: pyyaml>=5.1 in ./.conda/envs/test/lib/python3.13/site-packages (from transformers) (6.0.2)\n",
      "Requirement already satisfied: regex!=2019.12.17 in ./.conda/envs/test/lib/python3.13/site-packages (from transformers) (2024.11.6)\n",
      "Requirement already satisfied: requests in ./.conda/envs/test/lib/python3.13/site-packages (from transformers) (2.32.3)\n",
      "Requirement already satisfied: tokenizers<0.22,>=0.21 in ./.conda/envs/test/lib/python3.13/site-packages (from transformers) (0.21.1)\n",
      "Requirement already satisfied: safetensors>=0.4.3 in ./.conda/envs/test/lib/python3.13/site-packages (from transformers) (0.5.3)\n",
      "Requirement already satisfied: tqdm>=4.27 in ./.conda/envs/test/lib/python3.13/site-packages (from transformers) (4.67.1)\n",
      "Requirement already satisfied: pyarrow>=15.0.0 in ./.conda/envs/test/lib/python3.13/site-packages (from datasets) (19.0.1)\n",
      "Requirement already satisfied: dill<0.3.9,>=0.3.0 in ./.conda/envs/test/lib/python3.13/site-packages (from datasets) (0.3.8)\n",
      "Requirement already satisfied: pandas in ./.conda/envs/test/lib/python3.13/site-packages (from datasets) (2.2.3)\n",
      "Requirement already satisfied: xxhash in ./.conda/envs/test/lib/python3.13/site-packages (from datasets) (3.5.0)\n",
      "Requirement already satisfied: multiprocess<0.70.17 in ./.conda/envs/test/lib/python3.13/site-packages (from datasets) (0.70.16)\n",
      "Requirement already satisfied: fsspec<=2024.12.0,>=2023.1.0 in ./.conda/envs/test/lib/python3.13/site-packages (from fsspec[http]<=2024.12.0,>=2023.1.0->datasets) (2024.12.0)\n",
      "Requirement already satisfied: aiohttp in ./.conda/envs/test/lib/python3.13/site-packages (from datasets) (3.11.16)\n",
      "Requirement already satisfied: psutil in ./.conda/envs/test/lib/python3.13/site-packages (from peft) (7.0.0)\n",
      "Requirement already satisfied: torch>=1.13.0 in ./.conda/envs/test/lib/python3.13/site-packages (from peft) (2.6.0)\n",
      "Requirement already satisfied: accelerate>=0.21.0 in ./.conda/envs/test/lib/python3.13/site-packages (from peft) (1.6.0)\n",
      "Requirement already satisfied: aiohappyeyeballs>=2.3.0 in ./.conda/envs/test/lib/python3.13/site-packages (from aiohttp->datasets) (2.6.1)\n",
      "Requirement already satisfied: aiosignal>=1.1.2 in ./.conda/envs/test/lib/python3.13/site-packages (from aiohttp->datasets) (1.3.2)\n",
      "Requirement already satisfied: attrs>=17.3.0 in ./.conda/envs/test/lib/python3.13/site-packages (from aiohttp->datasets) (25.3.0)\n",
      "Requirement already satisfied: frozenlist>=1.1.1 in ./.conda/envs/test/lib/python3.13/site-packages (from aiohttp->datasets) (1.5.0)\n",
      "Requirement already satisfied: multidict<7.0,>=4.5 in ./.conda/envs/test/lib/python3.13/site-packages (from aiohttp->datasets) (6.3.2)\n",
      "Requirement already satisfied: propcache>=0.2.0 in ./.conda/envs/test/lib/python3.13/site-packages (from aiohttp->datasets) (0.3.1)\n",
      "Requirement already satisfied: yarl<2.0,>=1.17.0 in ./.conda/envs/test/lib/python3.13/site-packages (from aiohttp->datasets) (1.19.0)\n",
      "Requirement already satisfied: typing-extensions>=3.7.4.3 in ./.conda/envs/test/lib/python3.13/site-packages (from huggingface-hub<1.0,>=0.26.0->transformers) (4.12.2)\n",
      "Requirement already satisfied: charset_normalizer<4,>=2 in ./.conda/envs/test/lib/python3.13/site-packages (from requests->transformers) (3.4.1)\n",
      "Requirement already satisfied: idna<4,>=2.5 in ./.conda/envs/test/lib/python3.13/site-packages (from requests->transformers) (3.10)\n",
      "Requirement already satisfied: urllib3<3,>=1.21.1 in ./.conda/envs/test/lib/python3.13/site-packages (from requests->transformers) (2.3.0)\n",
      "Requirement already satisfied: certifi>=2017.4.17 in ./.conda/envs/test/lib/python3.13/site-packages (from requests->transformers) (2025.1.31)\n",
      "Requirement already satisfied: networkx in ./.conda/envs/test/lib/python3.13/site-packages (from torch>=1.13.0->peft) (3.4.2)\n",
      "Requirement already satisfied: jinja2 in ./.conda/envs/test/lib/python3.13/site-packages (from torch>=1.13.0->peft) (3.1.6)\n",
      "Requirement already satisfied: nvidia-cuda-nvrtc-cu12==12.4.127 in ./.conda/envs/test/lib/python3.13/site-packages (from torch>=1.13.0->peft) (12.4.127)\n",
      "Requirement already satisfied: nvidia-cuda-runtime-cu12==12.4.127 in ./.conda/envs/test/lib/python3.13/site-packages (from torch>=1.13.0->peft) (12.4.127)\n",
      "Requirement already satisfied: nvidia-cuda-cupti-cu12==12.4.127 in ./.conda/envs/test/lib/python3.13/site-packages (from torch>=1.13.0->peft) (12.4.127)\n",
      "Requirement already satisfied: nvidia-cudnn-cu12==9.1.0.70 in ./.conda/envs/test/lib/python3.13/site-packages (from torch>=1.13.0->peft) (9.1.0.70)\n",
      "Requirement already satisfied: nvidia-cublas-cu12==12.4.5.8 in ./.conda/envs/test/lib/python3.13/site-packages (from torch>=1.13.0->peft) (12.4.5.8)\n",
      "Requirement already satisfied: nvidia-cufft-cu12==11.2.1.3 in ./.conda/envs/test/lib/python3.13/site-packages (from torch>=1.13.0->peft) (11.2.1.3)\n",
      "Requirement already satisfied: nvidia-curand-cu12==10.3.5.147 in ./.conda/envs/test/lib/python3.13/site-packages (from torch>=1.13.0->peft) (10.3.5.147)\n",
      "Requirement already satisfied: nvidia-cusolver-cu12==11.6.1.9 in ./.conda/envs/test/lib/python3.13/site-packages (from torch>=1.13.0->peft) (11.6.1.9)\n",
      "Requirement already satisfied: nvidia-cusparse-cu12==12.3.1.170 in ./.conda/envs/test/lib/python3.13/site-packages (from torch>=1.13.0->peft) (12.3.1.170)\n",
      "Requirement already satisfied: nvidia-cusparselt-cu12==0.6.2 in ./.conda/envs/test/lib/python3.13/site-packages (from torch>=1.13.0->peft) (0.6.2)\n",
      "Requirement already satisfied: nvidia-nccl-cu12==2.21.5 in ./.conda/envs/test/lib/python3.13/site-packages (from torch>=1.13.0->peft) (2.21.5)\n",
      "Requirement already satisfied: nvidia-nvtx-cu12==12.4.127 in ./.conda/envs/test/lib/python3.13/site-packages (from torch>=1.13.0->peft) (12.4.127)\n",
      "Requirement already satisfied: nvidia-nvjitlink-cu12==12.4.127 in ./.conda/envs/test/lib/python3.13/site-packages (from torch>=1.13.0->peft) (12.4.127)\n",
      "Requirement already satisfied: triton==3.2.0 in ./.conda/envs/test/lib/python3.13/site-packages (from torch>=1.13.0->peft) (3.2.0)\n",
      "Requirement already satisfied: setuptools in ./.conda/envs/test/lib/python3.13/site-packages (from torch>=1.13.0->peft) (75.8.2)\n",
      "Requirement already satisfied: sympy==1.13.1 in ./.conda/envs/test/lib/python3.13/site-packages (from torch>=1.13.0->peft) (1.13.1)\n",
      "Requirement already satisfied: mpmath<1.4,>=1.1.0 in ./.conda/envs/test/lib/python3.13/site-packages (from sympy==1.13.1->torch>=1.13.0->peft) (1.3.0)\n",
      "Requirement already satisfied: python-dateutil>=2.8.2 in ./.conda/envs/test/lib/python3.13/site-packages (from pandas->datasets) (2.9.0.post0)\n",
      "Requirement already satisfied: pytz>=2020.1 in ./.conda/envs/test/lib/python3.13/site-packages (from pandas->datasets) (2025.1)\n",
      "Requirement already satisfied: tzdata>=2022.7 in ./.conda/envs/test/lib/python3.13/site-packages (from pandas->datasets) (2025.2)\n",
      "Requirement already satisfied: six>=1.5 in ./.conda/envs/test/lib/python3.13/site-packages (from python-dateutil>=2.8.2->pandas->datasets) (1.17.0)\n",
      "Requirement already satisfied: MarkupSafe>=2.0 in ./.conda/envs/test/lib/python3.13/site-packages (from jinja2->torch>=1.13.0->peft) (3.0.2)\n"
     ]
    }
   ],
   "source": [
    "! pip install transformers datasets peft faiss-cpu"
   ]
  },
  {
   "cell_type": "code",
   "execution_count": 14,
   "id": "8da116ab-808a-48f0-9372-54a1147b1baf",
   "metadata": {},
   "outputs": [],
   "source": [
    "import pandas as pd\n",
    "import torch\n",
    "from datasets import load_dataset\n",
    "from transformers import CLIPProcessor, CLIPModel\n",
    "from peft import get_peft_model, LoraConfig, TaskType\n",
    "from PIL import Image\n",
    "from torchvision import transforms\n",
    "import faiss\n",
    "import requests\n",
    "from io import BytesIO"
   ]
  },
  {
   "cell_type": "code",
   "execution_count": 3,
   "id": "19fe54aa-2f6d-45e8-bfae-c4792a9f6d93",
   "metadata": {},
   "outputs": [],
   "source": [
    "# Load the metadata split from Amazon Reviews 2023\n",
    "product_meta_data = load_dataset(\"McAuley-Lab/Amazon-Reviews-2023\", \"raw_meta_All_Beauty\", split=\"full\", trust_remote_code=True)\n",
    "df_meta = pd.DataFrame.from_records(product_meta_data).add_prefix(\"product_\")"
   ]
  },
  {
   "cell_type": "code",
   "execution_count": 4,
   "id": "e2bad520-385b-4939-8814-ca3e2483d990",
   "metadata": {},
   "outputs": [
    {
     "data": {
      "text/plain": [
       "(112590, 16)"
      ]
     },
     "execution_count": 4,
     "metadata": {},
     "output_type": "execute_result"
    }
   ],
   "source": [
    "df_meta.shape"
   ]
  },
  {
   "cell_type": "code",
   "execution_count": 5,
   "id": "5dfe5e8d-5c3f-4e9e-892e-6e6c231f3c08",
   "metadata": {},
   "outputs": [],
   "source": [
    "review_data = load_dataset(\"McAuley-Lab/Amazon-Reviews-2023\", \"raw_review_All_Beauty\",  split=\"full\", trust_remote_code=True)\n",
    "df_review = pd.DataFrame.from_records(review_data).add_prefix(\"review_\")"
   ]
  },
  {
   "cell_type": "code",
   "execution_count": 6,
   "id": "ff54099e-52e4-492a-9070-596b8e3a77f1",
   "metadata": {},
   "outputs": [],
   "source": [
    "df_meta_clean = df_meta[df_meta['product_parent_asin'].isin(df_review['review_parent_asin'])]"
   ]
  },
  {
   "cell_type": "code",
   "execution_count": 7,
   "id": "2e50137f-0d20-4e3d-ad68-ef9d9f40a53f",
   "metadata": {},
   "outputs": [
    {
     "name": "stderr",
     "output_type": "stream",
     "text": [
      "/tmp/ipykernel_2036084/2919265753.py:7: FutureWarning: DataFrame.applymap has been deprecated. Use DataFrame.map instead.\n",
      "  .applymap(lambda x: x is None).any(axis=1)]\n"
     ]
    }
   ],
   "source": [
    "# Columns to clean\n",
    "target_cols = ['product_title', 'product_description', 'product_images']\n",
    "\n",
    "# 1) Drop NaNs and literal None’s\n",
    "df_meta_clean = df_meta_clean.dropna(subset=target_cols)\n",
    "df_meta_clean = df_meta_clean[~df_meta_clean[target_cols]\n",
    "    .applymap(lambda x: x is None).any(axis=1)]"
   ]
  },
  {
   "cell_type": "code",
   "execution_count": 8,
   "id": "f0527e89-314e-4f29-b583-729a24cf6ddb",
   "metadata": {},
   "outputs": [
    {
     "data": {
      "text/plain": [
       "(112565, 16)"
      ]
     },
     "execution_count": 8,
     "metadata": {},
     "output_type": "execute_result"
    }
   ],
   "source": [
    "df_meta_clean.shape"
   ]
  },
  {
   "cell_type": "code",
   "execution_count": 9,
   "id": "47579524-17e2-4990-8659-53a26f300352",
   "metadata": {},
   "outputs": [
    {
     "name": "stdout",
     "output_type": "stream",
     "text": [
      "After cleaning: 112553 rows\n"
     ]
    }
   ],
   "source": [
    "# 2) Define what an “invalid” string is\n",
    "invalid_strs = {'', 'n/a', 'none', 'na'}\n",
    "\n",
    "# 3) Validator for product_images\n",
    "def images_valid(img_dict):\n",
    "    if not isinstance(img_dict, dict):\n",
    "        return False\n",
    "    # only consider these keys for actual URLs\n",
    "    for key in ('hi_res', 'large', 'thumb'):\n",
    "        urls = img_dict.get(key, [])\n",
    "        if not isinstance(urls, (list, tuple)):\n",
    "            continue\n",
    "        for url in urls:\n",
    "            if isinstance(url, str) and url.strip().lower() not in invalid_strs:\n",
    "                return True\n",
    "    return False\n",
    "\n",
    "# 4) General validator for text fields\n",
    "def text_valid(x):\n",
    "    return isinstance(x, str) and x.strip().lower() not in invalid_strs\n",
    "\n",
    "# 5) Apply validators\n",
    "#   - title & description must pass text_valid\n",
    "#   - images must pass images_valid\n",
    "df_meta_clean = df_meta_clean[\n",
    "    df_meta_clean['product_title'].apply(text_valid) &\n",
    "    #df_meta_clean['product_description'].apply(text_valid) &\n",
    "    df_meta_clean['product_images'].apply(images_valid)\n",
    "].reset_index(drop=True)\n",
    "\n",
    "print(f\"After cleaning: {len(df_meta_clean)} rows\")  "
   ]
  },
  {
   "cell_type": "code",
   "execution_count": 10,
   "id": "eb9271cd-e872-4b09-a57a-d4c5b5314c3d",
   "metadata": {},
   "outputs": [
    {
     "data": {
      "text/html": [
       "<div>\n",
       "<style scoped>\n",
       "    .dataframe tbody tr th:only-of-type {\n",
       "        vertical-align: middle;\n",
       "    }\n",
       "\n",
       "    .dataframe tbody tr th {\n",
       "        vertical-align: top;\n",
       "    }\n",
       "\n",
       "    .dataframe thead th {\n",
       "        text-align: right;\n",
       "    }\n",
       "</style>\n",
       "<table border=\"1\" class=\"dataframe\">\n",
       "  <thead>\n",
       "    <tr style=\"text-align: right;\">\n",
       "      <th></th>\n",
       "      <th>product_title</th>\n",
       "      <th>product_description</th>\n",
       "      <th>product_images</th>\n",
       "    </tr>\n",
       "  </thead>\n",
       "  <tbody>\n",
       "    <tr>\n",
       "      <th>0</th>\n",
       "      <td>Howard LC0008 Leather Conditioner, 8-Ounce (4-...</td>\n",
       "      <td>[]</td>\n",
       "      <td>{'hi_res': [None, 'https://m.media-amazon.com/...</td>\n",
       "    </tr>\n",
       "    <tr>\n",
       "      <th>1</th>\n",
       "      <td>Yes to Tomatoes Detoxifying Charcoal Cleanser ...</td>\n",
       "      <td>[]</td>\n",
       "      <td>{'hi_res': ['https://m.media-amazon.com/images...</td>\n",
       "    </tr>\n",
       "    <tr>\n",
       "      <th>2</th>\n",
       "      <td>Eye Patch Black Adult with Tie Band (6 Per Pack)</td>\n",
       "      <td>[]</td>\n",
       "      <td>{'hi_res': [None, None], 'large': ['https://m....</td>\n",
       "    </tr>\n",
       "    <tr>\n",
       "      <th>3</th>\n",
       "      <td>Tattoo Eyebrow Stickers, Waterproof Eyebrow, 4...</td>\n",
       "      <td>[]</td>\n",
       "      <td>{'hi_res': ['https://m.media-amazon.com/images...</td>\n",
       "    </tr>\n",
       "    <tr>\n",
       "      <th>4</th>\n",
       "      <td>Precision Plunger Bars for Cartridge Grips – 9...</td>\n",
       "      <td>[The Precision Plunger Bars are designed to wo...</td>\n",
       "      <td>{'hi_res': [None], 'large': ['https://m.media-...</td>\n",
       "    </tr>\n",
       "    <tr>\n",
       "      <th>...</th>\n",
       "      <td>...</td>\n",
       "      <td>...</td>\n",
       "      <td>...</td>\n",
       "    </tr>\n",
       "    <tr>\n",
       "      <th>112548</th>\n",
       "      <td>TOPREETY 24\"120gr 3/4 Full Head clip in hair e...</td>\n",
       "      <td>[]</td>\n",
       "      <td>{'hi_res': ['https://m.media-amazon.com/images...</td>\n",
       "    </tr>\n",
       "    <tr>\n",
       "      <th>112549</th>\n",
       "      <td>Pets Playmate Pet Grooming Glove,Gentle Deshed...</td>\n",
       "      <td>[]</td>\n",
       "      <td>{'hi_res': ['https://m.media-amazon.com/images...</td>\n",
       "    </tr>\n",
       "    <tr>\n",
       "      <th>112550</th>\n",
       "      <td>[10Pack] Makeup Brushes Set Cosmetics Tools Ki...</td>\n",
       "      <td>[]</td>\n",
       "      <td>{'hi_res': ['https://m.media-amazon.com/images...</td>\n",
       "    </tr>\n",
       "    <tr>\n",
       "      <th>112551</th>\n",
       "      <td>Xcoser Pretty Party Anna Wig Hair Tails Hair S...</td>\n",
       "      <td>[]</td>\n",
       "      <td>{'hi_res': ['https://m.media-amazon.com/images...</td>\n",
       "    </tr>\n",
       "    <tr>\n",
       "      <th>112552</th>\n",
       "      <td>DVIO Men's Voyage Perfume, Spicy woody fragran...</td>\n",
       "      <td>[]</td>\n",
       "      <td>{'hi_res': ['https://m.media-amazon.com/images...</td>\n",
       "    </tr>\n",
       "  </tbody>\n",
       "</table>\n",
       "<p>112553 rows × 3 columns</p>\n",
       "</div>"
      ],
      "text/plain": [
       "                                            product_title  \\\n",
       "0       Howard LC0008 Leather Conditioner, 8-Ounce (4-...   \n",
       "1       Yes to Tomatoes Detoxifying Charcoal Cleanser ...   \n",
       "2        Eye Patch Black Adult with Tie Band (6 Per Pack)   \n",
       "3       Tattoo Eyebrow Stickers, Waterproof Eyebrow, 4...   \n",
       "4       Precision Plunger Bars for Cartridge Grips – 9...   \n",
       "...                                                   ...   \n",
       "112548  TOPREETY 24\"120gr 3/4 Full Head clip in hair e...   \n",
       "112549  Pets Playmate Pet Grooming Glove,Gentle Deshed...   \n",
       "112550  [10Pack] Makeup Brushes Set Cosmetics Tools Ki...   \n",
       "112551  Xcoser Pretty Party Anna Wig Hair Tails Hair S...   \n",
       "112552  DVIO Men's Voyage Perfume, Spicy woody fragran...   \n",
       "\n",
       "                                      product_description  \\\n",
       "0                                                      []   \n",
       "1                                                      []   \n",
       "2                                                      []   \n",
       "3                                                      []   \n",
       "4       [The Precision Plunger Bars are designed to wo...   \n",
       "...                                                   ...   \n",
       "112548                                                 []   \n",
       "112549                                                 []   \n",
       "112550                                                 []   \n",
       "112551                                                 []   \n",
       "112552                                                 []   \n",
       "\n",
       "                                           product_images  \n",
       "0       {'hi_res': [None, 'https://m.media-amazon.com/...  \n",
       "1       {'hi_res': ['https://m.media-amazon.com/images...  \n",
       "2       {'hi_res': [None, None], 'large': ['https://m....  \n",
       "3       {'hi_res': ['https://m.media-amazon.com/images...  \n",
       "4       {'hi_res': [None], 'large': ['https://m.media-...  \n",
       "...                                                   ...  \n",
       "112548  {'hi_res': ['https://m.media-amazon.com/images...  \n",
       "112549  {'hi_res': ['https://m.media-amazon.com/images...  \n",
       "112550  {'hi_res': ['https://m.media-amazon.com/images...  \n",
       "112551  {'hi_res': ['https://m.media-amazon.com/images...  \n",
       "112552  {'hi_res': ['https://m.media-amazon.com/images...  \n",
       "\n",
       "[112553 rows x 3 columns]"
      ]
     },
     "execution_count": 10,
     "metadata": {},
     "output_type": "execute_result"
    }
   ],
   "source": [
    "df_meta_clean[target_cols]"
   ]
  },
  {
   "cell_type": "code",
   "execution_count": 11,
   "id": "c3217d48-6dbf-4cb7-9625-90dc831759d9",
   "metadata": {},
   "outputs": [
    {
     "name": "stdout",
     "output_type": "stream",
     "text": [
      "Final dataset with extracted image URLs: 112553 rows\n"
     ]
    }
   ],
   "source": [
    "def extract_first_valid_image(images_dict):\n",
    "    if not isinstance(images_dict, dict):\n",
    "        return None\n",
    "\n",
    "    # Keys we care about, in order of preference\n",
    "    image_keys = ['hi_res', 'large', 'thumb']\n",
    "    invalid_strs = {'', 'none', 'n/a', 'na'}\n",
    "\n",
    "    for key in image_keys:\n",
    "        urls = images_dict.get(key, [])\n",
    "        if not isinstance(urls, list):\n",
    "            continue\n",
    "        for url in urls:\n",
    "            if isinstance(url, str) and url.strip().lower() not in invalid_strs:\n",
    "                return url.strip()\n",
    "    return None\n",
    "\n",
    "# Apply it to create a new column: product_image_url\n",
    "df_meta_clean['product_image_url'] = df_meta_clean['product_images'].apply(extract_first_valid_image)\n",
    "\n",
    "# Optional: drop rows where no valid image could be extracted (just in case)\n",
    "df_meta_clean = df_meta_clean[df_meta_clean['product_image_url'].notnull()].reset_index(drop=True)\n",
    "\n",
    "print(f\"Final dataset with extracted image URLs: {len(df_meta_clean)} rows\")\n"
   ]
  },
  {
   "cell_type": "code",
   "execution_count": 12,
   "id": "4d4fdaf9-0a83-4467-8a79-88648123c9bf",
   "metadata": {},
   "outputs": [],
   "source": [
    "def flatten_description(desc):\n",
    "    if isinstance(desc, list):\n",
    "        return \" \".join([d.strip() for d in desc if isinstance(d, str)]).strip()\n",
    "    elif isinstance(desc, str):\n",
    "        return desc.strip()\n",
    "    return \"\"\n",
    "\n",
    "df_meta_clean['product_description'] = df_meta_clean['product_description'].apply(flatten_description)"
   ]
  },
  {
   "cell_type": "code",
   "execution_count": 13,
   "id": "867bca5c-87d5-4bef-9bdc-a229b32da63f",
   "metadata": {
    "scrolled": true
   },
   "outputs": [],
   "source": [
    "final_data = df_meta_clean[['product_title','product_description','product_image_url']].dropna()"
   ]
  },
  {
   "cell_type": "code",
   "execution_count": 14,
   "id": "41df7c11-1a3a-4e10-bb44-8f1a5ec724a1",
   "metadata": {},
   "outputs": [
    {
     "data": {
      "text/html": [
       "<div>\n",
       "<style scoped>\n",
       "    .dataframe tbody tr th:only-of-type {\n",
       "        vertical-align: middle;\n",
       "    }\n",
       "\n",
       "    .dataframe tbody tr th {\n",
       "        vertical-align: top;\n",
       "    }\n",
       "\n",
       "    .dataframe thead th {\n",
       "        text-align: right;\n",
       "    }\n",
       "</style>\n",
       "<table border=\"1\" class=\"dataframe\">\n",
       "  <thead>\n",
       "    <tr style=\"text-align: right;\">\n",
       "      <th></th>\n",
       "      <th>product_title</th>\n",
       "      <th>product_description</th>\n",
       "      <th>product_image_url</th>\n",
       "    </tr>\n",
       "  </thead>\n",
       "  <tbody>\n",
       "    <tr>\n",
       "      <th>97378</th>\n",
       "      <td>EZTAT2 Delta Trilateral Premium Tattoo Foot Pe...</td>\n",
       "      <td></td>\n",
       "      <td>https://m.media-amazon.com/images/I/51ovqLcqhU...</td>\n",
       "    </tr>\n",
       "  </tbody>\n",
       "</table>\n",
       "</div>"
      ],
      "text/plain": [
       "                                           product_title product_description  \\\n",
       "97378  EZTAT2 Delta Trilateral Premium Tattoo Foot Pe...                       \n",
       "\n",
       "                                       product_image_url  \n",
       "97378  https://m.media-amazon.com/images/I/51ovqLcqhU...  "
      ]
     },
     "execution_count": 14,
     "metadata": {},
     "output_type": "execute_result"
    }
   ],
   "source": [
    "final_data.sample()"
   ]
  },
  {
   "cell_type": "code",
   "execution_count": 15,
   "id": "bed145c7-86f8-49d7-96ad-7dc28888603f",
   "metadata": {},
   "outputs": [
    {
     "name": "stderr",
     "output_type": "stream",
     "text": [
      "Using a slow image processor as `use_fast` is unset and a slow processor was saved with this model. `use_fast=True` will be the default behavior in v4.50, even if the model was saved with a slow processor. This will result in minor differences in outputs. You'll still be able to use a slow processor with `use_fast=False`.\n"
     ]
    },
    {
     "name": "stdout",
     "output_type": "stream",
     "text": [
      "cuda\n"
     ]
    }
   ],
   "source": [
    "from transformers import CLIPProcessor, CLIPModel\n",
    "from PIL import Image\n",
    "import torch\n",
    "import requests\n",
    "from io import BytesIO\n",
    "from tqdm import tqdm\n",
    "\n",
    "# Load CLIP base model and processor\n",
    "model = CLIPModel.from_pretrained(\"openai/clip-vit-base-patch32\")\n",
    "processor = CLIPProcessor.from_pretrained(\"openai/clip-vit-base-patch32\")\n",
    "model.eval()\n",
    "\n",
    "# Device setup\n",
    "device = \"cuda\" if torch.cuda.is_available() else \"cpu\"\n",
    "model = model.to(device)\n",
    "print(device)\n",
    "# Sample batched embedding extractor\n",
    "def encode_batch(texts, image_urls):\n",
    "    images = []\n",
    "    for url in image_urls:\n",
    "        try:\n",
    "            img = Image.open(BytesIO(requests.get(url, timeout=10).content)).convert(\"RGB\")\n",
    "            images.append(img)\n",
    "        except:\n",
    "            images.append(Image.new(\"RGB\", (224, 224), color='white'))  # fallback\n",
    "\n",
    "    inputs = processor(text=texts, images=images, return_tensors=\"pt\", padding=True, truncation=True)\n",
    "    inputs = {k: v.to(device) for k, v in inputs.items()}\n",
    "    with torch.no_grad():\n",
    "        outputs = model(**inputs)\n",
    "    return outputs.text_embeds.cpu(), outputs.image_embeds.cpu()\n"
   ]
  },
  {
   "cell_type": "code",
   "execution_count": 16,
   "id": "9aada3c1-e6e4-4420-ba13-2310a9898d12",
   "metadata": {},
   "outputs": [
    {
     "name": "stderr",
     "output_type": "stream",
     "text": [
      "100%|█████████████████████████████████████| 3518/3518 [6:59:20<00:00,  7.15s/it]\n"
     ]
    }
   ],
   "source": [
    "text_embeddings = []\n",
    "image_embeddings = []\n",
    "\n",
    "batch_size = 32\n",
    "for i in tqdm(range(0, len(df_meta_clean), batch_size)):\n",
    "    batch = df_meta_clean.iloc[i:i+batch_size]\n",
    "    texts = (batch['product_title'] + \" \" + batch['product_description']).tolist()\n",
    "    urls = batch['product_image_url'].tolist()\n",
    "    text_emb, img_emb = encode_batch(texts, urls)\n",
    "    text_embeddings.append(text_emb)\n",
    "    image_embeddings.append(img_emb)\n",
    "\n",
    "# Concatenate everything\n",
    "text_embeddings = torch.cat(text_embeddings)\n",
    "image_embeddings = torch.cat(image_embeddings)"
   ]
  },
  {
   "cell_type": "code",
   "execution_count": 25,
   "id": "d5d6a136-dc01-42f1-be3f-5f5980ded909",
   "metadata": {},
   "outputs": [],
   "source": [
    "from sklearn.metrics.pairwise import cosine_similarity"
   ]
  },
  {
   "cell_type": "code",
   "execution_count": 29,
   "id": "bcbb4eda-fa70-4577-8727-262dec6a527f",
   "metadata": {},
   "outputs": [],
   "source": [
    "def recommend(query_text=None, query_image_url=None, alpha=0.5, top_k=5):\n",
    "    assert query_text or query_image_url, \"Need at least text or image\"\n",
    "\n",
    "    t_emb, i_emb = None, None\n",
    "    \n",
    "    if query_text:\n",
    "        t_in = processor(text=query_text, return_tensors=\"pt\", truncation=True).to(device)\n",
    "        with torch.no_grad():\n",
    "            t_emb = model.get_text_features(**t_in).cpu().numpy()  # [1, D]\n",
    "\n",
    "    if query_image_url:\n",
    "        img = Image.open(BytesIO(requests.get(query_image_url, timeout=10).content)).convert(\"RGB\")\n",
    "        i_in = processor(images=img, return_tensors=\"pt\").to(device)\n",
    "        with torch.no_grad():\n",
    "            i_emb = model.get_image_features(**i_in).cpu().numpy()  # [1, D]\n",
    "\n",
    "    sims = None\n",
    "\n",
    "    if t_emb is not None and i_emb is not None:\n",
    "        sim_text = cosine_similarity(t_emb, text_embeddings.numpy())[0]\n",
    "        sim_image = cosine_similarity(i_emb, image_embeddings.numpy())[0]\n",
    "        sims = alpha * sim_image + (1 - alpha) * sim_text\n",
    "\n",
    "    elif t_emb is not None:\n",
    "        sim_text = cosine_similarity(t_emb, text_embeddings.numpy())[0]\n",
    "        sim_image = cosine_similarity(t_emb, image_embeddings.numpy())[0]\n",
    "        sims = alpha * sim_image + (1 - alpha) * sim_text\n",
    "\n",
    "    elif i_emb is not None:\n",
    "        sim_text = cosine_similarity(i_emb, text_embeddings.numpy())[0]\n",
    "        sim_image = cosine_similarity(i_emb, image_embeddings.numpy())[0]\n",
    "        sims = alpha * sim_text + (1 - alpha) * sim_image\n",
    "\n",
    "    idxs = sims.argsort()[::-1][:top_k]\n",
    "    results = df_meta_clean.iloc[idxs][['product_title', 'product_image_url']].copy()\n",
    "    results['similarity_score'] = sims[idxs]\n",
    "    return results.reset_index(drop=True)"
   ]
  },
  {
   "cell_type": "code",
   "execution_count": 19,
   "id": "e6c2f919-1adc-4a9c-be20-b5720a611a15",
   "metadata": {},
   "outputs": [],
   "source": [
    "import numpy as np\n",
    "np.save(\"product_text_embeddings.npy\", np.stack(text_embeddings))\n",
    "np.save(\"product_image_embeddings.npy\", np.stack(image_embeddings))\n",
    "df_meta_clean.to_csv(\"product_data.csv\", index=False)"
   ]
  },
  {
   "cell_type": "markdown",
   "id": "bce18c20-faf9-4e3d-a776-bd6c91b15f26",
   "metadata": {},
   "source": [
    "### Testing"
   ]
  },
  {
   "cell_type": "code",
   "execution_count": 71,
   "id": "accf07a2-7ae6-4d6f-a6cd-2ca24cfdbea9",
   "metadata": {},
   "outputs": [],
   "source": [
    "import numpy as np\n",
    "import pandas as pd\n",
    "\n",
    "# Load embeddings\n",
    "text_embeddings = np.load(\"product_text_embeddings.npy\")\n",
    "image_embeddings = np.load(\"product_image_embeddings.npy\")\n",
    "\n",
    "# Load metadata\n",
    "df_meta = pd.read_csv(\"product_data.csv\")\n",
    "\n",
    "# Load Amazon recommendation queries\n",
    "df_queries = pd.read_excel(\"Amazon_recom_queries.xlsx\")"
   ]
  },
  {
   "cell_type": "code",
   "execution_count": 31,
   "id": "917e83b1-2ed8-4110-974d-58f5cc536963",
   "metadata": {},
   "outputs": [
    {
     "name": "stderr",
     "output_type": "stream",
     "text": [
      "/tmp/ipykernel_1218876/1365325199.py:34: SettingWithCopyWarning: \n",
      "A value is trying to be set on a copy of a slice from a DataFrame.\n",
      "Try using .loc[row_indexer,col_indexer] = value instead\n",
      "\n",
      "See the caveats in the documentation: https://pandas.pydata.org/pandas-docs/stable/user_guide/indexing.html#returning-a-view-versus-a-copy\n",
      "  df_filtered[\"product_text\"] = df_filtered.apply(create_product_text, axis=1)\n"
     ]
    }
   ],
   "source": [
    "import pandas as pd\n",
    "\n",
    "# Load the dataset\n",
    "df = pd.read_csv(\"product_data.csv\")\n",
    "\n",
    "# Fill missing values\n",
    "df[\"product_title\"] = df[\"product_title\"].fillna(\"\")\n",
    "df[\"product_description\"] = df[\"product_description\"].fillna(\"\")\n",
    "\n",
    "# Define keywords for filtering product titles and descriptions\n",
    "keywords = ['nail', 'shampoo', 'conditioner', 'eye', 'lip', 'ear', 'nose', 'beauty', 'cosmetic', 'hair', 'skin','hand', 'leg', 'oil' ,'makeup', 'lotion', 'cream', 'cleanser', 'moisturizer']\n",
    "\n",
    "# Filter rows where product_title or product_description contains any of the keywords\n",
    "def contains_keywords(text, keywords):\n",
    "    return any(keyword.lower() in text.lower() for keyword in keywords)\n",
    "\n",
    "# Apply the filter\n",
    "df_filtered = df[df[\"product_title\"].apply(lambda x: contains_keywords(x, keywords)) | \n",
    "                 df[\"product_description\"].apply(lambda x: contains_keywords(x, keywords))]\n",
    "\n",
    "# Clean and format product text\n",
    "def create_product_text(row):\n",
    "    title = row[\"product_title\"].strip()\n",
    "    description = row[\"product_description\"].strip()\n",
    "    \n",
    "    # If there's a description, include it; otherwise, just include the title\n",
    "    if description:\n",
    "        full_text = f\"Product title is: {title}\\nProduct description is: {description}\"\n",
    "    else:\n",
    "        full_text = f\"Product title is: {title}\"\n",
    "    \n",
    "    return full_text[:512]  # limit text to 512 characters (adjust length if needed)\n",
    "\n",
    "df_filtered[\"product_text\"] = df_filtered.apply(create_product_text, axis=1)\n",
    "\n",
    "# Keep only rows where product_text and product_image_url are not empty\n",
    "df_cleaned = df_filtered[\n",
    "    df_filtered[\"product_text\"].str.strip().astype(bool) & \n",
    "    df_filtered[\"product_image_url\"].str.strip().astype(bool)\n",
    "].reset_index(drop=True)\n"
   ]
  },
  {
   "cell_type": "code",
   "execution_count": 23,
   "id": "6f2aa824-5d88-422c-bd1b-58e4157e5ef2",
   "metadata": {},
   "outputs": [
    {
     "name": "stdout",
     "output_type": "stream",
     "text": [
      "cuda\n",
      "FAISS index created and saved.\n"
     ]
    }
   ],
   "source": [
    "import faiss\n",
    "import torch\n",
    "import os\n",
    "import torch.nn.functional as F\n",
    "import numpy as np\n",
    "\n",
    "model = CLIPModel.from_pretrained(\"openai/clip-vit-base-patch32\")\n",
    "processor = CLIPProcessor.from_pretrained(\"openai/clip-vit-base-patch32\")\n",
    "model.eval()\n",
    "\n",
    "# Device setup\n",
    "device = \"cuda\" if torch.cuda.is_available() else \"cpu\"\n",
    "model = model.to(device)\n",
    "print(device)\n",
    "\n",
    "# Assuming you already have this:\n",
    "combined_embs = (text_embeddings + image_embeddings) / 2\n",
    "\n",
    "# Create FAISS index (inner product == cosine similarity if normalized)\n",
    "index = faiss.IndexFlatIP(combined_embs.shape[1])\n",
    "index.add(combined_embs)\n",
    "\n",
    "# Create save dir if needed\n",
    "SAVE_DIR = \"artifacts_RAG\"\n",
    "os.makedirs(SAVE_DIR, exist_ok=True)\n",
    "\n",
    "# Save the index\n",
    "faiss.write_index(index, os.path.join(SAVE_DIR, \"faiss_index_combined.index\"))\n",
    "\n",
    "print(\"FAISS index created and saved.\")\n"
   ]
  },
  {
   "cell_type": "code",
   "execution_count": 32,
   "id": "31774b35-f3f2-423b-81b6-ad5210efacc3",
   "metadata": {},
   "outputs": [],
   "source": [
    "MODEL_NAME = \"openai/clip-vit-base-patch32\""
   ]
  },
  {
   "cell_type": "code",
   "execution_count": 51,
   "id": "5f76211b-38e0-4999-bbc8-15249f5a52ed",
   "metadata": {},
   "outputs": [],
   "source": [
    "def unified_query(input_text=None, input_image_path=None, k=5):\n",
    "    assert input_text or input_image_path, \"Provide at least text or image input\"\n",
    "\n",
    "    inputs = {}\n",
    "    if input_text:\n",
    "        inputs.update({\"text\": input_text})\n",
    "    if input_image_path:\n",
    "        if input_image_path.startswith(\"http\"):\n",
    "            response = requests.get(input_image_path)\n",
    "            image = Image.open(BytesIO(response.content)).convert(\"RGB\")\n",
    "        else:\n",
    "            image = Image.open(input_image_path).convert(\"RGB\")\n",
    "        inputs.update({\"images\": image})\n",
    "\n",
    "    processor = CLIPProcessor.from_pretrained(\"openai/clip-vit-base-patch32\")\n",
    "    encoded = processor(return_tensors=\"pt\", padding=True, truncation=True, **inputs)\n",
    "    encoded = {k: v.to(device) for k, v in encoded.items()}\n",
    "\n",
    "    with torch.no_grad():\n",
    "        if input_text and input_image_path:\n",
    "            text_emb = model.get_text_features(input_ids=encoded[\"input_ids\"], attention_mask=encoded[\"attention_mask\"])\n",
    "            image_emb = model.get_image_features(pixel_values=encoded[\"pixel_values\"])\n",
    "            query_emb =(text_emb + image_emb) / 2\n",
    "        elif input_text:\n",
    "            text_emb = model.get_text_features(input_ids=encoded[\"input_ids\"], attention_mask=encoded[\"attention_mask\"])\n",
    "            query_emb = text_emb\n",
    "        else:\n",
    "            image_emb = model.get_image_features(pixel_values=encoded[\"pixel_values\"])\n",
    "            query_emb = image_emb\n",
    "\n",
    "    # FAISS expects NumPy array in float32\n",
    "    query_emb = F.normalize(query_emb, dim=-1)\n",
    "    query_np = query_emb.cpu().numpy().astype(\"float32\")\n",
    "    faiss_index = faiss.read_index(\"artifacts_RAG/faiss_index_combined.index\")\n",
    "    # Perform the search\n",
    "    scores, indices = faiss_index.search(query_np, k)\n",
    "    top_items = df.iloc[indices[0]]\n",
    "    top_scores = scores[0]\n",
    "\n",
    "    return top_items, top_scores"
   ]
  },
  {
   "cell_type": "code",
   "execution_count": 45,
   "id": "c1456efd-86d5-4929-b503-ddf926aabbaa",
   "metadata": {},
   "outputs": [
    {
     "data": {
      "text/plain": [
       "(                                           product_title product_description\n",
       " 21870  Photo Finish Professional Airbrush Cosmetic Ma...                    \n",
       " 16937   Color On Professional Eye Shadow Smokey Classics                    \n",
       " 53700                      Waterproof Long Lasting Color                    \n",
       " 42615  Fashion Fair Oil Free Perfect FinishÂ Cream-to...                    \n",
       " 63760  Eye makeup-mascara,essence mascar,Mascara to B...                    ,\n",
       " array([0.55085355, 0.5320103 , 0.5204488 , 0.5203953 , 0.51483893],\n",
       "       dtype=float32))"
      ]
     },
     "execution_count": 45,
     "metadata": {},
     "output_type": "execute_result"
    }
   ],
   "source": [
    "unified_query(input_text=\"photo finish Professional airbrush makeup\")"
   ]
  },
  {
   "cell_type": "code",
   "execution_count": 46,
   "id": "9721ff63-ae30-496e-922c-c3d3bb941c0f",
   "metadata": {},
   "outputs": [],
   "source": [
    "query_image_url = \"https://temptupro.com/cdn/shop/products/s-one-essential-airbrush-kit-hero_2.jpg?v=1743181132&width=1780\""
   ]
  },
  {
   "cell_type": "code",
   "execution_count": 47,
   "id": "9419d473-d745-4dbd-9883-8739ef6f0143",
   "metadata": {},
   "outputs": [
    {
     "data": {
      "text/plain": [
       "(                                           product_title product_description\n",
       " 79541  Sephora Favorites Beauty Vault: 12 Days of Mak...                    \n",
       " 48089  4 pcs Professional Eye Makeup Cosmetic Set Con...                    \n",
       " 98878     Kapitza x Clinique 7 Piece Gift Set. $77 Value                    \n",
       " 91989  Sephora Favorites LIP TEMPTATIONS Lip Set Beau...                    \n",
       " 9033   RoseFlower 26Pcs Makeup Cosmetic All-in-One Ho...                    ,\n",
       " array([0.5736082, 0.5610577, 0.559578 , 0.5566915, 0.555905 ],\n",
       "       dtype=float32))"
      ]
     },
     "execution_count": 47,
     "metadata": {},
     "output_type": "execute_result"
    }
   ],
   "source": [
    "unified_query(input_image_path=query_image_url)"
   ]
  },
  {
   "cell_type": "code",
   "execution_count": 48,
   "id": "f6ade652-ea6b-4c01-8355-f8d2628ffb21",
   "metadata": {},
   "outputs": [
    {
     "data": {
      "text/plain": [
       "(                                           product_title product_description\n",
       " 2616                     ETA Shell All in One Makeup Kit                    \n",
       " 21870  Photo Finish Professional Airbrush Cosmetic Ma...                    \n",
       " 49561  Makeup Palette ,Start Makers 6 Colors Contour ...                    \n",
       " 48089  4 pcs Professional Eye Makeup Cosmetic Set Con...                    \n",
       " 47380  Deluxe 2.0 Battery - Aeroblend Airbrush Makeup...                    ,\n",
       " array([0.6628011 , 0.6554586 , 0.65243113, 0.65198946, 0.6485068 ],\n",
       "       dtype=float32))"
      ]
     },
     "execution_count": 48,
     "metadata": {},
     "output_type": "execute_result"
    }
   ],
   "source": [
    "unified_query(input_text=\"airbrush makeup kit with compressor\", input_image_path= query_image_url)"
   ]
  },
  {
   "cell_type": "code",
   "execution_count": 64,
   "id": "1e0a2b71-7e0b-4271-9a39-c6b421b9bc38",
   "metadata": {},
   "outputs": [
    {
     "data": {
      "text/html": [
       "<div>\n",
       "<style scoped>\n",
       "    .dataframe tbody tr th:only-of-type {\n",
       "        vertical-align: middle;\n",
       "    }\n",
       "\n",
       "    .dataframe tbody tr th {\n",
       "        vertical-align: top;\n",
       "    }\n",
       "\n",
       "    .dataframe thead th {\n",
       "        text-align: right;\n",
       "    }\n",
       "</style>\n",
       "<table border=\"1\" class=\"dataframe\">\n",
       "  <thead>\n",
       "    <tr style=\"text-align: right;\">\n",
       "      <th></th>\n",
       "      <th>Queries</th>\n",
       "      <th>Product_title</th>\n",
       "      <th>Product_description</th>\n",
       "      <th>Product_link</th>\n",
       "      <th>Image_link</th>\n",
       "      <th>Model_rec_titles</th>\n",
       "      <th>Model_rec_descriptions</th>\n",
       "      <th>Model_rec_links</th>\n",
       "      <th>Model_rec_scores</th>\n",
       "    </tr>\n",
       "  </thead>\n",
       "  <tbody>\n",
       "    <tr>\n",
       "      <th>0</th>\n",
       "      <td>10A Straight Human Hair Bundles with Closure</td>\n",
       "      <td>[10A Straight Bundles with Closure 20 22 24 wi...</td>\n",
       "      <td>[Brand\\tWowqueen Beauty Color\\tBundles with Cl...</td>\n",
       "      <td>[https://www.amazon.com/Straight-Bundles-Closu...</td>\n",
       "      <td>[https://m.media-amazon.com/images/I/81NdEQli2...</td>\n",
       "      <td>[10A Brazilian Straight Hair Bundles with Clos...</td>\n",
       "      <td>[, , , , ]</td>\n",
       "      <td>[]</td>\n",
       "      <td>[0.7701902389526367, 0.7669499516487122, 0.766...</td>\n",
       "    </tr>\n",
       "    <tr>\n",
       "      <th>1</th>\n",
       "      <td>A gift set for body</td>\n",
       "      <td>[COBA'S DAUGHTER 3-Piece Body Care Gift Set | ...</td>\n",
       "      <td>[Item Form\\tScrub, Gel Scent\\tTurmeric &amp; Honey...</td>\n",
       "      <td>[https://www.amazon.com/COBAS-DAUGHTER-Turmeri...</td>\n",
       "      <td>[https://m.media-amazon.com/images/I/81UxWJWl6...</td>\n",
       "      <td>[Clean Getaway Gift Set, AM &amp; PM Origins Holid...</td>\n",
       "      <td>[, , , , ]</td>\n",
       "      <td>[]</td>\n",
       "      <td>[0.6938373446464539, 0.6834535598754883, 0.682...</td>\n",
       "    </tr>\n",
       "    <tr>\n",
       "      <th>2</th>\n",
       "      <td>Abercrombie &amp; Fitch RYDER Cedarwood Musk Fragr...</td>\n",
       "      <td>[Abercrombie &amp; Fitch Fierce Cologne Spray, 6.7...</td>\n",
       "      <td>[Brand        Abercrombie &amp; Fitch Item Form   ...</td>\n",
       "      <td>[https://www.amazon.com/Abercrombie-Fitch-Fier...</td>\n",
       "      <td>[https://m.media-amazon.com/images/I/71vdx060Q...</td>\n",
       "      <td>[Abercrombie &amp; Fitch Fierce Cologne For Men Tr...</td>\n",
       "      <td>[, , The light scent of fresh cucumber and coc...</td>\n",
       "      <td>[]</td>\n",
       "      <td>[0.6689027547836304, 0.640284538269043, 0.6353...</td>\n",
       "    </tr>\n",
       "    <tr>\n",
       "      <th>3</th>\n",
       "      <td>Amla Hair Oil</td>\n",
       "      <td>[Dabur Amla Hair Oil - Nourishing Indian Oil f...</td>\n",
       "      <td>[Brand\\tDabur Hair Type\\tAll Item Weight\\t300 ...</td>\n",
       "      <td>[https://www.amazon.com/Dabur-Amla-Hair-Oil-30...</td>\n",
       "      <td>[https://m.media-amazon.com/images/I/71ZKLI829...</td>\n",
       "      <td>[Dabur Amla Hair Oil, 360ml Bottle, PATANJALI ...</td>\n",
       "      <td>[, , , Parachute Amla Hair Cream 210ml, ]</td>\n",
       "      <td>[]</td>\n",
       "      <td>[0.6740005016326904, 0.6421761512756348, 0.623...</td>\n",
       "    </tr>\n",
       "    <tr>\n",
       "      <th>4</th>\n",
       "      <td>Analgesic Magnesium Sulfate Liniment Cream</td>\n",
       "      <td>[Absorbine Veterinary Liniment Topical Analges...</td>\n",
       "      <td>[Spearmint-scented pain reliefgel contains nat...</td>\n",
       "      <td>[https://www.amazon.com/Absorbine-Veterinary-L...</td>\n",
       "      <td>[https://m.media-amazon.com/images/I/61uyMABIp...</td>\n",
       "      <td>[Southwest Sunshine Herbal Gel, Robert Researc...</td>\n",
       "      <td>[, , Lotion Lite Plus 10%, , ]</td>\n",
       "      <td>[]</td>\n",
       "      <td>[0.6272090673446655, 0.6250230073928833, 0.618...</td>\n",
       "    </tr>\n",
       "  </tbody>\n",
       "</table>\n",
       "</div>"
      ],
      "text/plain": [
       "                                             Queries  \\\n",
       "0       10A Straight Human Hair Bundles with Closure   \n",
       "1                                A gift set for body   \n",
       "2  Abercrombie & Fitch RYDER Cedarwood Musk Fragr...   \n",
       "3                                      Amla Hair Oil   \n",
       "4         Analgesic Magnesium Sulfate Liniment Cream   \n",
       "\n",
       "                                       Product_title  \\\n",
       "0  [10A Straight Bundles with Closure 20 22 24 wi...   \n",
       "1  [COBA'S DAUGHTER 3-Piece Body Care Gift Set | ...   \n",
       "2  [Abercrombie & Fitch Fierce Cologne Spray, 6.7...   \n",
       "3  [Dabur Amla Hair Oil - Nourishing Indian Oil f...   \n",
       "4  [Absorbine Veterinary Liniment Topical Analges...   \n",
       "\n",
       "                                 Product_description  \\\n",
       "0  [Brand\\tWowqueen Beauty Color\\tBundles with Cl...   \n",
       "1  [Item Form\\tScrub, Gel Scent\\tTurmeric & Honey...   \n",
       "2  [Brand        Abercrombie & Fitch Item Form   ...   \n",
       "3  [Brand\\tDabur Hair Type\\tAll Item Weight\\t300 ...   \n",
       "4  [Spearmint-scented pain reliefgel contains nat...   \n",
       "\n",
       "                                        Product_link  \\\n",
       "0  [https://www.amazon.com/Straight-Bundles-Closu...   \n",
       "1  [https://www.amazon.com/COBAS-DAUGHTER-Turmeri...   \n",
       "2  [https://www.amazon.com/Abercrombie-Fitch-Fier...   \n",
       "3  [https://www.amazon.com/Dabur-Amla-Hair-Oil-30...   \n",
       "4  [https://www.amazon.com/Absorbine-Veterinary-L...   \n",
       "\n",
       "                                          Image_link  \\\n",
       "0  [https://m.media-amazon.com/images/I/81NdEQli2...   \n",
       "1  [https://m.media-amazon.com/images/I/81UxWJWl6...   \n",
       "2  [https://m.media-amazon.com/images/I/71vdx060Q...   \n",
       "3  [https://m.media-amazon.com/images/I/71ZKLI829...   \n",
       "4  [https://m.media-amazon.com/images/I/61uyMABIp...   \n",
       "\n",
       "                                    Model_rec_titles  \\\n",
       "0  [10A Brazilian Straight Hair Bundles with Clos...   \n",
       "1  [Clean Getaway Gift Set, AM & PM Origins Holid...   \n",
       "2  [Abercrombie & Fitch Fierce Cologne For Men Tr...   \n",
       "3  [Dabur Amla Hair Oil, 360ml Bottle, PATANJALI ...   \n",
       "4  [Southwest Sunshine Herbal Gel, Robert Researc...   \n",
       "\n",
       "                              Model_rec_descriptions Model_rec_links  \\\n",
       "0                                         [, , , , ]              []   \n",
       "1                                         [, , , , ]              []   \n",
       "2  [, , The light scent of fresh cucumber and coc...              []   \n",
       "3          [, , , Parachute Amla Hair Cream 210ml, ]              []   \n",
       "4                     [, , Lotion Lite Plus 10%, , ]              []   \n",
       "\n",
       "                                    Model_rec_scores  \n",
       "0  [0.7701902389526367, 0.7669499516487122, 0.766...  \n",
       "1  [0.6938373446464539, 0.6834535598754883, 0.682...  \n",
       "2  [0.6689027547836304, 0.640284538269043, 0.6353...  \n",
       "3  [0.6740005016326904, 0.6421761512756348, 0.623...  \n",
       "4  [0.6272090673446655, 0.6250230073928833, 0.618...  "
      ]
     },
     "execution_count": 64,
     "metadata": {},
     "output_type": "execute_result"
    }
   ],
   "source": [
    "import pandas as pd\n",
    "\n",
    "# 1) Load your queries\n",
    "df_queries = pd.read_excel(\"Amazon_recom_queries.xlsx\")\n",
    "\n",
    "# 2) Group by unique Queries, collecting Amazon’s ground-truth lists\n",
    "amazon_grouped = df_queries.groupby(\"Queries\").agg({\n",
    "    \"Product_title\":       list,\n",
    "    \"Product_description\": list,\n",
    "    \"Product_link\":        list,\n",
    "    \"Image_link\":          list\n",
    "}).reset_index()\n",
    "\n",
    "# 3) Prepare columns to hold your model’s recommendations\n",
    "amazon_grouped[\"Model_rec_titles\"]       = None\n",
    "amazon_grouped[\"Model_rec_descriptions\"] = None\n",
    "amazon_grouped[\"Model_rec_links\"]        = None\n",
    "amazon_grouped[\"Model_rec_scores\"]       = None\n",
    "\n",
    "# 4) For each unique query, run unified_query and store the top-K recs + scores\n",
    "for i, row in amazon_grouped.iterrows():\n",
    "    q = row[\"Queries\"]\n",
    "    img_url = row[\"Image_link\"][0]  # use the first image for that query\n",
    "    \n",
    "    recs, scores = unified_query(input_text=q, input_image_path=img_url, k=5)\n",
    "    \n",
    "    # Extract the fields you want from the returned DataFrame\n",
    "    amazon_grouped.at[i, \"Model_rec_titles\"]       = recs[\"product_title\"].tolist()\n",
    "    amazon_grouped.at[i, \"Model_rec_descriptions\"] = recs[\"product_description\"].tolist()\n",
    "    # If you also saved product links in your metadata, include them:\n",
    "    amazon_grouped.at[i, \"Model_rec_links\"]        = recs.get(\"product_link\", pd.Series()).tolist()\n",
    "    amazon_grouped.at[i, \"Model_rec_scores\"]       = scores.tolist()\n",
    "\n",
    "# 5) Inspect\n",
    "amazon_grouped.head()\n"
   ]
  },
  {
   "cell_type": "code",
   "execution_count": 69,
   "id": "067db296-dd88-407a-acfc-e055478f9f0f",
   "metadata": {},
   "outputs": [],
   "source": [
    "amazon_grouped[\"mean_similarity@5\"] = amazon_grouped[\"Model_rec_scores\"] \\\n",
    "                                            .apply(lambda scores: np.mean(scores))"
   ]
  },
  {
   "cell_type": "code",
   "execution_count": 70,
   "id": "7bc25fbb-3b74-4544-a1dc-1208bc141ec9",
   "metadata": {},
   "outputs": [
    {
     "data": {
      "text/plain": [
       "np.float64(0.6725095043182374)"
      ]
     },
     "execution_count": 70,
     "metadata": {},
     "output_type": "execute_result"
    }
   ],
   "source": [
    "overall_mean = amazon_grouped[\"mean_similarity@5\"].mean()\n",
    "overall_mean"
   ]
  },
  {
   "cell_type": "code",
   "execution_count": null,
   "id": "8a40ba7c-a0ef-42ad-9a9a-ec9aa24cc23b",
   "metadata": {},
   "outputs": [],
   "source": []
  }
 ],
 "metadata": {
  "kernelspec": {
   "display_name": "Python (test)",
   "language": "python",
   "name": "test"
  },
  "language_info": {
   "codemirror_mode": {
    "name": "ipython",
    "version": 3
   },
   "file_extension": ".py",
   "mimetype": "text/x-python",
   "name": "python",
   "nbconvert_exporter": "python",
   "pygments_lexer": "ipython3",
   "version": "3.13.2"
  }
 },
 "nbformat": 4,
 "nbformat_minor": 5
}
